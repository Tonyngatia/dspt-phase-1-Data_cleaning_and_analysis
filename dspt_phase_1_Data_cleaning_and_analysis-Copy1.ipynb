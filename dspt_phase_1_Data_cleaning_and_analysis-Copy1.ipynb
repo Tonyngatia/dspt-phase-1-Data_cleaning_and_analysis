{
 "cells": [
  {
   "cell_type": "markdown",
   "metadata": {
    "id": "pD2haiIMWQ_g"
   },
   "source": [
    "# Data analysis with Pandas\n"
   ]
  },
  {
   "cell_type": "markdown",
   "metadata": {
    "id": "p8ibQ1EIW_mA"
   },
   "source": [
    "**Lecture Overview**\n",
    "\n",
    "1. Data exploration in Pandas\n",
    "2. Data cleaning\n",
    "3. Data analysis in Pandas  \n",
    "  i. Univariate analysis  \n",
    "  ii. Bivariate analysis\n",
    "4. Special functions for analysis in pandas or otherwise\n"
   ]
  },
  {
   "cell_type": "markdown",
   "metadata": {
    "id": "uimuWvyCYn0q"
   },
   "source": [
    "## Data Exploration\n",
    "\n",
    "![exp](https://www.trainanddevelop.ca/wp-content/uploads/2021/08/Magnifying-glass-on-charts-graphs-spreadsheet-paper-1-scaled.jpeg)\n",
    "Once a data scientist acquires the data, they have to review it before making any decisions about the data/the project. This process includes the following:\n",
    "1. Loading the data\n",
    "2. Check the data and datatypes.\n",
    "3. Note any cleaning and/or engineering to be done.\n",
    "\n",
    "Let's work through these steps using the following dataset:\n",
    "\n",
    "[Student data](https://github.com/Moringa-School-Classroom/dspt-phase-1-Data_cleaning_and_analysis/blob/main/students_data.csv)"
   ]
  },
  {
   "cell_type": "code",
   "execution_count": 1,
   "metadata": {
    "id": "0xVoene0fCY5"
   },
   "outputs": [],
   "source": [
    "# Loading needed libraries\n",
    "import numpy as np\n",
    "import pandas as pd\n",
    "import matplotlib.pyplot as plt\n",
    "%matplotlib inline"
   ]
  },
  {
   "cell_type": "markdown",
   "metadata": {
    "id": "hh2j-HCAfN__"
   },
   "source": [
    "**Loading data**\n",
    "\n",
    "We load data into a data structure called a **dataframe**. A dataframe contains rows and columns; it can be easily manipulated hence appropriate for data analysis."
   ]
  },
  {
   "cell_type": "code",
   "execution_count": 2,
   "metadata": {
    "id": "rvYfj-vlfTrW"
   },
   "outputs": [],
   "source": [
    "df = pd.read_csv('students_data.csv', index_col=0)\n",
    "# using the index_col=0 argument avoid having the index column as unnamed:0"
   ]
  },
  {
   "cell_type": "markdown",
   "metadata": {
    "id": "uetOlWVGiOy-"
   },
   "source": [
    "![#f03c15](https://placehold.co/15x15/f03c15/f03c15.png) `What other pandas functions can be used to load data?`"
   ]
  },
  {
   "cell_type": "code",
   "execution_count": 3,
   "metadata": {
    "cellView": "form",
    "id": "pNxFMPDZiOaf"
   },
   "outputs": [],
   "source": [
    "#@title\n",
    "# df = pd.read_excel(\"data.xlsx\")\n",
    "\n",
    "# df = pd.read_json(\"data.json\")\n",
    "\n",
    "# df_list = pd.read_html(\"data.html\")\n",
    "\n",
    "# df = pd.read_pickle(\"data.pkl\")\n",
    "\n",
    "# from sqlalchemy import create_engine\n",
    "# engine = create_engine('sqlite:///mydatabase.db')\n",
    "# df = pd.read_sql_query('SELECT * FROM mytable', engine)"
   ]
  },
  {
   "cell_type": "code",
   "execution_count": 4,
   "metadata": {
    "colab": {
     "base_uri": "https://localhost:8080/",
     "height": 206
    },
    "id": "KYkmm5DKgDP3",
    "outputId": "7533c2c7-7264-4fea-b7fe-28717b984e98"
   },
   "outputs": [
    {
     "data": {
      "text/html": [
       "<div>\n",
       "<style scoped>\n",
       "    .dataframe tbody tr th:only-of-type {\n",
       "        vertical-align: middle;\n",
       "    }\n",
       "\n",
       "    .dataframe tbody tr th {\n",
       "        vertical-align: top;\n",
       "    }\n",
       "\n",
       "    .dataframe thead th {\n",
       "        text-align: right;\n",
       "    }\n",
       "</style>\n",
       "<table border=\"1\" class=\"dataframe\">\n",
       "  <thead>\n",
       "    <tr style=\"text-align: right;\">\n",
       "      <th></th>\n",
       "      <th>names</th>\n",
       "      <th>admission number</th>\n",
       "      <th>house</th>\n",
       "      <th>balance</th>\n",
       "      <th>english</th>\n",
       "      <th>kiswahili</th>\n",
       "      <th>mathematics</th>\n",
       "      <th>science</th>\n",
       "      <th>sst/cre</th>\n",
       "      <th>Creative Arts</th>\n",
       "      <th>music</th>\n",
       "    </tr>\n",
       "  </thead>\n",
       "  <tbody>\n",
       "    <tr>\n",
       "      <th>0</th>\n",
       "      <td>JERIEL NDEDA, OBURA</td>\n",
       "      <td>13259.0</td>\n",
       "      <td>NaN</td>\n",
       "      <td>NaN</td>\n",
       "      <td>81.0</td>\n",
       "      <td>39.0</td>\n",
       "      <td>50.0</td>\n",
       "      <td>30.0</td>\n",
       "      <td>59.0</td>\n",
       "      <td>99%</td>\n",
       "      <td>80%</td>\n",
       "    </tr>\n",
       "    <tr>\n",
       "      <th>1</th>\n",
       "      <td>MUKUHA TIMOTHY, KAMAU</td>\n",
       "      <td>13243.0</td>\n",
       "      <td>NaN</td>\n",
       "      <td>NaN</td>\n",
       "      <td>85.0</td>\n",
       "      <td>74.0</td>\n",
       "      <td>68.0</td>\n",
       "      <td>49.0</td>\n",
       "      <td>78.0</td>\n",
       "      <td>38%</td>\n",
       "      <td>86%</td>\n",
       "    </tr>\n",
       "    <tr>\n",
       "      <th>2</th>\n",
       "      <td>JOB, NGARA</td>\n",
       "      <td>13307.0</td>\n",
       "      <td>NaN</td>\n",
       "      <td>NaN</td>\n",
       "      <td>54.0</td>\n",
       "      <td>49.0</td>\n",
       "      <td>53.0</td>\n",
       "      <td>59.0</td>\n",
       "      <td>72.0</td>\n",
       "      <td>86%</td>\n",
       "      <td>62%</td>\n",
       "    </tr>\n",
       "    <tr>\n",
       "      <th>3</th>\n",
       "      <td>CHEGE DAVID, KAMAU</td>\n",
       "      <td>13258.0</td>\n",
       "      <td>NaN</td>\n",
       "      <td>NaN</td>\n",
       "      <td>71.0</td>\n",
       "      <td>97.0</td>\n",
       "      <td>92.0</td>\n",
       "      <td>41.0</td>\n",
       "      <td>81.0</td>\n",
       "      <td>77%</td>\n",
       "      <td>80%</td>\n",
       "    </tr>\n",
       "    <tr>\n",
       "      <th>4</th>\n",
       "      <td>RAMADHAN MUSA, TEPO</td>\n",
       "      <td>13363.0</td>\n",
       "      <td>NaN</td>\n",
       "      <td>NaN</td>\n",
       "      <td>40.0</td>\n",
       "      <td>84.0</td>\n",
       "      <td>74.0</td>\n",
       "      <td>82.0</td>\n",
       "      <td>89.0</td>\n",
       "      <td>64%</td>\n",
       "      <td>46%</td>\n",
       "    </tr>\n",
       "  </tbody>\n",
       "</table>\n",
       "</div>"
      ],
      "text/plain": [
       "                   names  admission number house balance  english  kiswahili  \\\n",
       "0    JERIEL NDEDA, OBURA           13259.0   NaN     NaN     81.0       39.0   \n",
       "1  MUKUHA TIMOTHY, KAMAU           13243.0   NaN     NaN     85.0       74.0   \n",
       "2             JOB, NGARA           13307.0   NaN     NaN     54.0       49.0   \n",
       "3     CHEGE DAVID, KAMAU           13258.0   NaN     NaN     71.0       97.0   \n",
       "4    RAMADHAN MUSA, TEPO           13363.0   NaN     NaN     40.0       84.0   \n",
       "\n",
       "   mathematics  science  sst/cre Creative Arts music  \n",
       "0         50.0     30.0     59.0           99%   80%  \n",
       "1         68.0     49.0     78.0           38%   86%  \n",
       "2         53.0     59.0     72.0           86%   62%  \n",
       "3         92.0     41.0     81.0           77%   80%  \n",
       "4         74.0     82.0     89.0           64%   46%  "
      ]
     },
     "execution_count": 4,
     "metadata": {},
     "output_type": "execute_result"
    }
   ],
   "source": [
    "# Check if the loading was successful\n",
    "df.head(5) # checks for the first 5 rows"
   ]
  },
  {
   "cell_type": "code",
   "execution_count": 5,
   "metadata": {
    "colab": {
     "base_uri": "https://localhost:8080/",
     "height": 206
    },
    "id": "Izum2ycwgLLC",
    "outputId": "f97252ad-0c62-457f-8002-13d3f270cb21"
   },
   "outputs": [
    {
     "data": {
      "text/html": [
       "<div>\n",
       "<style scoped>\n",
       "    .dataframe tbody tr th:only-of-type {\n",
       "        vertical-align: middle;\n",
       "    }\n",
       "\n",
       "    .dataframe tbody tr th {\n",
       "        vertical-align: top;\n",
       "    }\n",
       "\n",
       "    .dataframe thead th {\n",
       "        text-align: right;\n",
       "    }\n",
       "</style>\n",
       "<table border=\"1\" class=\"dataframe\">\n",
       "  <thead>\n",
       "    <tr style=\"text-align: right;\">\n",
       "      <th></th>\n",
       "      <th>names</th>\n",
       "      <th>admission number</th>\n",
       "      <th>house</th>\n",
       "      <th>balance</th>\n",
       "      <th>english</th>\n",
       "      <th>kiswahili</th>\n",
       "      <th>mathematics</th>\n",
       "      <th>science</th>\n",
       "      <th>sst/cre</th>\n",
       "      <th>Creative Arts</th>\n",
       "      <th>music</th>\n",
       "    </tr>\n",
       "  </thead>\n",
       "  <tbody>\n",
       "    <tr>\n",
       "      <th>142</th>\n",
       "      <td>TIMOTHY NDEDA, OBURA</td>\n",
       "      <td>13322634.0</td>\n",
       "      <td>Elgon</td>\n",
       "      <td>0</td>\n",
       "      <td>-78.0</td>\n",
       "      <td>40.0</td>\n",
       "      <td>99.0</td>\n",
       "      <td>70.0</td>\n",
       "      <td>49.0</td>\n",
       "      <td>99&amp;</td>\n",
       "      <td>92&amp;</td>\n",
       "    </tr>\n",
       "    <tr>\n",
       "      <th>143</th>\n",
       "      <td>MUKUHA JERIEL, NGARA</td>\n",
       "      <td>1932845.0</td>\n",
       "      <td>Cherangani</td>\n",
       "      <td>321</td>\n",
       "      <td>94.0</td>\n",
       "      <td>780.0</td>\n",
       "      <td>420.0</td>\n",
       "      <td>71.0</td>\n",
       "      <td>88.0</td>\n",
       "      <td>56%</td>\n",
       "      <td>76%</td>\n",
       "    </tr>\n",
       "    <tr>\n",
       "      <th>144</th>\n",
       "      <td>JOB, KAMAU</td>\n",
       "      <td>1430232.0</td>\n",
       "      <td>Nandi</td>\n",
       "      <td>43,200</td>\n",
       "      <td>98.0</td>\n",
       "      <td>80.0</td>\n",
       "      <td>86.0</td>\n",
       "      <td>64.0</td>\n",
       "      <td>99.0</td>\n",
       "      <td>49%</td>\n",
       "      <td>69%</td>\n",
       "    </tr>\n",
       "    <tr>\n",
       "      <th>145</th>\n",
       "      <td>CHEGE, KAMAU</td>\n",
       "      <td>159.0</td>\n",
       "      <td>Nandi</td>\n",
       "      <td>NaN</td>\n",
       "      <td>508.0</td>\n",
       "      <td>409.0</td>\n",
       "      <td>77.0</td>\n",
       "      <td>58.0</td>\n",
       "      <td>56.0</td>\n",
       "      <td>88%</td>\n",
       "      <td>84%</td>\n",
       "    </tr>\n",
       "    <tr>\n",
       "      <th>146</th>\n",
       "      <td>RAMADHAN, MUSA</td>\n",
       "      <td>87.0</td>\n",
       "      <td>Cherangani</td>\n",
       "      <td>NaN</td>\n",
       "      <td>81.0</td>\n",
       "      <td>70.0</td>\n",
       "      <td>64.0</td>\n",
       "      <td>680.0</td>\n",
       "      <td>88.0</td>\n",
       "      <td>76%</td>\n",
       "      <td>72%</td>\n",
       "    </tr>\n",
       "  </tbody>\n",
       "</table>\n",
       "</div>"
      ],
      "text/plain": [
       "                    names  admission number       house balance  english  \\\n",
       "142  TIMOTHY NDEDA, OBURA        13322634.0       Elgon       0    -78.0   \n",
       "143  MUKUHA JERIEL, NGARA         1932845.0  Cherangani     321     94.0   \n",
       "144            JOB, KAMAU         1430232.0       Nandi  43,200     98.0   \n",
       "145          CHEGE, KAMAU             159.0       Nandi     NaN    508.0   \n",
       "146        RAMADHAN, MUSA              87.0  Cherangani     NaN     81.0   \n",
       "\n",
       "     kiswahili  mathematics  science  sst/cre Creative Arts music  \n",
       "142       40.0         99.0     70.0     49.0           99&   92&  \n",
       "143      780.0        420.0     71.0     88.0           56%   76%  \n",
       "144       80.0         86.0     64.0     99.0           49%   69%  \n",
       "145      409.0         77.0     58.0     56.0           88%   84%  \n",
       "146       70.0         64.0    680.0     88.0           76%   72%  "
      ]
     },
     "execution_count": 5,
     "metadata": {},
     "output_type": "execute_result"
    }
   ],
   "source": [
    "df.tail(5) # checks for the last 5 rows"
   ]
  },
  {
   "cell_type": "markdown",
   "metadata": {
    "id": "cjWNxSV3gVPS"
   },
   "source": [
    "![#f03c15](https://placehold.co/15x15/f03c15/f03c15.png) `What can you notice when previewing the data?`"
   ]
  },
  {
   "cell_type": "markdown",
   "metadata": {
    "id": "RI-px5jQhdu0"
   },
   "source": [
    "**Checking the data and datatypes**"
   ]
  },
  {
   "cell_type": "code",
   "execution_count": 6,
   "metadata": {
    "colab": {
     "base_uri": "https://localhost:8080/"
    },
    "id": "eiRf9IpohdC0",
    "outputId": "7b1cec1a-793c-48f4-b89f-7211fcbd4d09"
   },
   "outputs": [
    {
     "data": {
      "text/plain": [
       "(147, 11)"
      ]
     },
     "execution_count": 6,
     "metadata": {},
     "output_type": "execute_result"
    }
   ],
   "source": [
    "df.shape # checks for the number of rows and columns"
   ]
  },
  {
   "cell_type": "code",
   "execution_count": 7,
   "metadata": {
    "colab": {
     "base_uri": "https://localhost:8080/"
    },
    "id": "YA01okcmkF3b",
    "outputId": "76ab5e0e-3817-4772-ec80-01d2ddaca637"
   },
   "outputs": [
    {
     "data": {
      "text/plain": [
       "Index(['names', 'admission number', 'house', 'balance', 'english', 'kiswahili',\n",
       "       'mathematics', 'science', 'sst/cre', 'Creative Arts', 'music'],\n",
       "      dtype='object')"
      ]
     },
     "execution_count": 7,
     "metadata": {},
     "output_type": "execute_result"
    }
   ],
   "source": [
    "df.columns # prints out the column names"
   ]
  },
  {
   "cell_type": "code",
   "execution_count": 8,
   "metadata": {
    "colab": {
     "base_uri": "https://localhost:8080/"
    },
    "id": "7w5qNfqphq50",
    "outputId": "468e12ae-7ea6-45e7-efb7-74f287db431c"
   },
   "outputs": [
    {
     "name": "stdout",
     "output_type": "stream",
     "text": [
      "<class 'pandas.core.frame.DataFrame'>\n",
      "Int64Index: 147 entries, 0 to 146\n",
      "Data columns (total 11 columns):\n",
      " #   Column            Non-Null Count  Dtype  \n",
      "---  ------            --------------  -----  \n",
      " 0   names             147 non-null    object \n",
      " 1   admission number  124 non-null    float64\n",
      " 2   house             26 non-null     object \n",
      " 3   balance           58 non-null     object \n",
      " 4   english           121 non-null    float64\n",
      " 5   kiswahili         119 non-null    float64\n",
      " 6   mathematics       130 non-null    float64\n",
      " 7   science           117 non-null    float64\n",
      " 8   sst/cre           132 non-null    float64\n",
      " 9   Creative Arts     143 non-null    object \n",
      " 10  music             147 non-null    object \n",
      "dtypes: float64(6), object(5)\n",
      "memory usage: 13.8+ KB\n"
     ]
    }
   ],
   "source": [
    "df.info() # checks for the overview of the data"
   ]
  },
  {
   "cell_type": "code",
   "execution_count": 9,
   "metadata": {
    "colab": {
     "base_uri": "https://localhost:8080/",
     "height": 300
    },
    "id": "PztnM3jEjrvH",
    "outputId": "fbef9d4d-a827-4b32-ce06-e31ad0078ad2"
   },
   "outputs": [
    {
     "data": {
      "text/html": [
       "<div>\n",
       "<style scoped>\n",
       "    .dataframe tbody tr th:only-of-type {\n",
       "        vertical-align: middle;\n",
       "    }\n",
       "\n",
       "    .dataframe tbody tr th {\n",
       "        vertical-align: top;\n",
       "    }\n",
       "\n",
       "    .dataframe thead th {\n",
       "        text-align: right;\n",
       "    }\n",
       "</style>\n",
       "<table border=\"1\" class=\"dataframe\">\n",
       "  <thead>\n",
       "    <tr style=\"text-align: right;\">\n",
       "      <th></th>\n",
       "      <th>admission number</th>\n",
       "      <th>english</th>\n",
       "      <th>kiswahili</th>\n",
       "      <th>mathematics</th>\n",
       "      <th>science</th>\n",
       "      <th>sst/cre</th>\n",
       "    </tr>\n",
       "  </thead>\n",
       "  <tbody>\n",
       "    <tr>\n",
       "      <th>count</th>\n",
       "      <td>1.240000e+02</td>\n",
       "      <td>121.000000</td>\n",
       "      <td>119.000000</td>\n",
       "      <td>130.000000</td>\n",
       "      <td>117.000000</td>\n",
       "      <td>132.000000</td>\n",
       "    </tr>\n",
       "    <tr>\n",
       "      <th>mean</th>\n",
       "      <td>1.473303e+05</td>\n",
       "      <td>70.958678</td>\n",
       "      <td>74.764706</td>\n",
       "      <td>72.938462</td>\n",
       "      <td>68.179487</td>\n",
       "      <td>70.833333</td>\n",
       "    </tr>\n",
       "    <tr>\n",
       "      <th>std</th>\n",
       "      <td>1.211743e+06</td>\n",
       "      <td>45.884710</td>\n",
       "      <td>74.971035</td>\n",
       "      <td>35.293180</td>\n",
       "      <td>60.666928</td>\n",
       "      <td>18.617142</td>\n",
       "    </tr>\n",
       "    <tr>\n",
       "      <th>min</th>\n",
       "      <td>8.700000e+01</td>\n",
       "      <td>-78.000000</td>\n",
       "      <td>29.000000</td>\n",
       "      <td>32.000000</td>\n",
       "      <td>28.000000</td>\n",
       "      <td>29.000000</td>\n",
       "    </tr>\n",
       "    <tr>\n",
       "      <th>25%</th>\n",
       "      <td>1.326200e+04</td>\n",
       "      <td>54.000000</td>\n",
       "      <td>49.500000</td>\n",
       "      <td>55.500000</td>\n",
       "      <td>46.000000</td>\n",
       "      <td>54.750000</td>\n",
       "    </tr>\n",
       "    <tr>\n",
       "      <th>50%</th>\n",
       "      <td>1.330650e+04</td>\n",
       "      <td>71.000000</td>\n",
       "      <td>66.000000</td>\n",
       "      <td>71.000000</td>\n",
       "      <td>66.000000</td>\n",
       "      <td>73.000000</td>\n",
       "    </tr>\n",
       "    <tr>\n",
       "      <th>75%</th>\n",
       "      <td>1.335625e+04</td>\n",
       "      <td>83.000000</td>\n",
       "      <td>82.500000</td>\n",
       "      <td>86.000000</td>\n",
       "      <td>79.000000</td>\n",
       "      <td>87.000000</td>\n",
       "    </tr>\n",
       "    <tr>\n",
       "      <th>max</th>\n",
       "      <td>1.332263e+07</td>\n",
       "      <td>508.000000</td>\n",
       "      <td>780.000000</td>\n",
       "      <td>420.000000</td>\n",
       "      <td>680.000000</td>\n",
       "      <td>100.000000</td>\n",
       "    </tr>\n",
       "  </tbody>\n",
       "</table>\n",
       "</div>"
      ],
      "text/plain": [
       "       admission number     english   kiswahili  mathematics     science  \\\n",
       "count      1.240000e+02  121.000000  119.000000   130.000000  117.000000   \n",
       "mean       1.473303e+05   70.958678   74.764706    72.938462   68.179487   \n",
       "std        1.211743e+06   45.884710   74.971035    35.293180   60.666928   \n",
       "min        8.700000e+01  -78.000000   29.000000    32.000000   28.000000   \n",
       "25%        1.326200e+04   54.000000   49.500000    55.500000   46.000000   \n",
       "50%        1.330650e+04   71.000000   66.000000    71.000000   66.000000   \n",
       "75%        1.335625e+04   83.000000   82.500000    86.000000   79.000000   \n",
       "max        1.332263e+07  508.000000  780.000000   420.000000  680.000000   \n",
       "\n",
       "          sst/cre  \n",
       "count  132.000000  \n",
       "mean    70.833333  \n",
       "std     18.617142  \n",
       "min     29.000000  \n",
       "25%     54.750000  \n",
       "50%     73.000000  \n",
       "75%     87.000000  \n",
       "max    100.000000  "
      ]
     },
     "execution_count": 9,
     "metadata": {},
     "output_type": "execute_result"
    }
   ],
   "source": [
    "df.describe() # check for a statistical summary of the data"
   ]
  },
  {
   "cell_type": "markdown",
   "metadata": {
    "id": "dcAfkn006Myz"
   },
   "source": [
    "## Data preprocessing and/or Cleaning\n",
    "\n",
    "* **Data cleaning** refers to the process of identifying and correcting or removing incorrect, incomplete, incorrectly formatted, corrupted, duplicate or irrelevant data within the provided data.\n",
    "\n",
    "while \n",
    "\n",
    "* **Data preprocessing** can refer to manipulation or dropping of data before it is used in order to ensure or enhance performance, and is an important step in the data mining process.\n",
    "\n",
    "\n",
    "There is no one  way to carry out data cleaning/preprocessing because the process will differ depending on the data at hand.\n",
    "\n"
   ]
  },
  {
   "cell_type": "markdown",
   "metadata": {
    "id": "a_jokNZe6My0"
   },
   "source": [
    "### What are the different types of data issues?\n",
    "\n",
    "* **Missing Data** - No data value is stored for an attribute in an observation hence data ends up with missing fields.\n",
    "* **Duplicated Entries** - An entry that shares data with another entry.\n",
    "* **Invalid Data** - This includes wrong data types and wrong data formats which in turn interferes with the analysis process.\n",
    "* **Conflicting Data** - Occurs when there are same records with different attributes example grams and kgs."
   ]
  },
  {
   "cell_type": "markdown",
   "metadata": {
    "id": "ejqM-HS26My9"
   },
   "source": [
    "### Dealing with missing values\n",
    "\n",
    "There are various methods of dealing with missing values:\n",
    "\n",
    "1. Drop missing values \n",
    "2. Fill/replace with mean/median/mode/, backward fill/forward fill, certain value\n",
    "3. Interpolate\n",
    "\n",
    "One selects the above methods based on a missing pattern.\n",
    "\n",
    "What is a missing pattern?\n",
    "\n",
    " *   Missing completely at random (MCAR): This occurs when the probability of a value being missing is the same for all observations and is not related to any other variables in the dataset.\n",
    "\n",
    " *   Missing at random (MAR): This occurs when the probability of a value being missing is related to one or more other variables in the dataset, but not the variable of interest.\n",
    "\n",
    " *   Missing not at random (MNAR): This occurs when the probability of a value being missing is related to the variable of interest.\n",
    "\n",
    " * ... etc"
   ]
  },
  {
   "cell_type": "markdown",
   "metadata": {
    "id": "8ohTcryYp-6V"
   },
   "source": [
    "Let's check for missing values."
   ]
  },
  {
   "cell_type": "code",
   "execution_count": 10,
   "metadata": {
    "colab": {
     "base_uri": "https://localhost:8080/",
     "height": 424
    },
    "id": "1jpz7F-Ll93Q",
    "outputId": "88815333-b120-4fa5-98fe-3913b46c864f"
   },
   "outputs": [
    {
     "data": {
      "text/html": [
       "<div>\n",
       "<style scoped>\n",
       "    .dataframe tbody tr th:only-of-type {\n",
       "        vertical-align: middle;\n",
       "    }\n",
       "\n",
       "    .dataframe tbody tr th {\n",
       "        vertical-align: top;\n",
       "    }\n",
       "\n",
       "    .dataframe thead th {\n",
       "        text-align: right;\n",
       "    }\n",
       "</style>\n",
       "<table border=\"1\" class=\"dataframe\">\n",
       "  <thead>\n",
       "    <tr style=\"text-align: right;\">\n",
       "      <th></th>\n",
       "      <th>names</th>\n",
       "      <th>admission number</th>\n",
       "      <th>house</th>\n",
       "      <th>balance</th>\n",
       "      <th>english</th>\n",
       "      <th>kiswahili</th>\n",
       "      <th>mathematics</th>\n",
       "      <th>science</th>\n",
       "      <th>sst/cre</th>\n",
       "      <th>Creative Arts</th>\n",
       "      <th>music</th>\n",
       "    </tr>\n",
       "  </thead>\n",
       "  <tbody>\n",
       "    <tr>\n",
       "      <th>0</th>\n",
       "      <td>False</td>\n",
       "      <td>False</td>\n",
       "      <td>True</td>\n",
       "      <td>True</td>\n",
       "      <td>False</td>\n",
       "      <td>False</td>\n",
       "      <td>False</td>\n",
       "      <td>False</td>\n",
       "      <td>False</td>\n",
       "      <td>False</td>\n",
       "      <td>False</td>\n",
       "    </tr>\n",
       "    <tr>\n",
       "      <th>1</th>\n",
       "      <td>False</td>\n",
       "      <td>False</td>\n",
       "      <td>True</td>\n",
       "      <td>True</td>\n",
       "      <td>False</td>\n",
       "      <td>False</td>\n",
       "      <td>False</td>\n",
       "      <td>False</td>\n",
       "      <td>False</td>\n",
       "      <td>False</td>\n",
       "      <td>False</td>\n",
       "    </tr>\n",
       "    <tr>\n",
       "      <th>2</th>\n",
       "      <td>False</td>\n",
       "      <td>False</td>\n",
       "      <td>True</td>\n",
       "      <td>True</td>\n",
       "      <td>False</td>\n",
       "      <td>False</td>\n",
       "      <td>False</td>\n",
       "      <td>False</td>\n",
       "      <td>False</td>\n",
       "      <td>False</td>\n",
       "      <td>False</td>\n",
       "    </tr>\n",
       "    <tr>\n",
       "      <th>3</th>\n",
       "      <td>False</td>\n",
       "      <td>False</td>\n",
       "      <td>True</td>\n",
       "      <td>True</td>\n",
       "      <td>False</td>\n",
       "      <td>False</td>\n",
       "      <td>False</td>\n",
       "      <td>False</td>\n",
       "      <td>False</td>\n",
       "      <td>False</td>\n",
       "      <td>False</td>\n",
       "    </tr>\n",
       "    <tr>\n",
       "      <th>4</th>\n",
       "      <td>False</td>\n",
       "      <td>False</td>\n",
       "      <td>True</td>\n",
       "      <td>True</td>\n",
       "      <td>False</td>\n",
       "      <td>False</td>\n",
       "      <td>False</td>\n",
       "      <td>False</td>\n",
       "      <td>False</td>\n",
       "      <td>False</td>\n",
       "      <td>False</td>\n",
       "    </tr>\n",
       "    <tr>\n",
       "      <th>...</th>\n",
       "      <td>...</td>\n",
       "      <td>...</td>\n",
       "      <td>...</td>\n",
       "      <td>...</td>\n",
       "      <td>...</td>\n",
       "      <td>...</td>\n",
       "      <td>...</td>\n",
       "      <td>...</td>\n",
       "      <td>...</td>\n",
       "      <td>...</td>\n",
       "      <td>...</td>\n",
       "    </tr>\n",
       "    <tr>\n",
       "      <th>142</th>\n",
       "      <td>False</td>\n",
       "      <td>False</td>\n",
       "      <td>False</td>\n",
       "      <td>False</td>\n",
       "      <td>False</td>\n",
       "      <td>False</td>\n",
       "      <td>False</td>\n",
       "      <td>False</td>\n",
       "      <td>False</td>\n",
       "      <td>False</td>\n",
       "      <td>False</td>\n",
       "    </tr>\n",
       "    <tr>\n",
       "      <th>143</th>\n",
       "      <td>False</td>\n",
       "      <td>False</td>\n",
       "      <td>False</td>\n",
       "      <td>False</td>\n",
       "      <td>False</td>\n",
       "      <td>False</td>\n",
       "      <td>False</td>\n",
       "      <td>False</td>\n",
       "      <td>False</td>\n",
       "      <td>False</td>\n",
       "      <td>False</td>\n",
       "    </tr>\n",
       "    <tr>\n",
       "      <th>144</th>\n",
       "      <td>False</td>\n",
       "      <td>False</td>\n",
       "      <td>False</td>\n",
       "      <td>False</td>\n",
       "      <td>False</td>\n",
       "      <td>False</td>\n",
       "      <td>False</td>\n",
       "      <td>False</td>\n",
       "      <td>False</td>\n",
       "      <td>False</td>\n",
       "      <td>False</td>\n",
       "    </tr>\n",
       "    <tr>\n",
       "      <th>145</th>\n",
       "      <td>False</td>\n",
       "      <td>False</td>\n",
       "      <td>False</td>\n",
       "      <td>True</td>\n",
       "      <td>False</td>\n",
       "      <td>False</td>\n",
       "      <td>False</td>\n",
       "      <td>False</td>\n",
       "      <td>False</td>\n",
       "      <td>False</td>\n",
       "      <td>False</td>\n",
       "    </tr>\n",
       "    <tr>\n",
       "      <th>146</th>\n",
       "      <td>False</td>\n",
       "      <td>False</td>\n",
       "      <td>False</td>\n",
       "      <td>True</td>\n",
       "      <td>False</td>\n",
       "      <td>False</td>\n",
       "      <td>False</td>\n",
       "      <td>False</td>\n",
       "      <td>False</td>\n",
       "      <td>False</td>\n",
       "      <td>False</td>\n",
       "    </tr>\n",
       "  </tbody>\n",
       "</table>\n",
       "<p>147 rows × 11 columns</p>\n",
       "</div>"
      ],
      "text/plain": [
       "     names  admission number  house  balance  english  kiswahili  mathematics  \\\n",
       "0    False             False   True     True    False      False        False   \n",
       "1    False             False   True     True    False      False        False   \n",
       "2    False             False   True     True    False      False        False   \n",
       "3    False             False   True     True    False      False        False   \n",
       "4    False             False   True     True    False      False        False   \n",
       "..     ...               ...    ...      ...      ...        ...          ...   \n",
       "142  False             False  False    False    False      False        False   \n",
       "143  False             False  False    False    False      False        False   \n",
       "144  False             False  False    False    False      False        False   \n",
       "145  False             False  False     True    False      False        False   \n",
       "146  False             False  False     True    False      False        False   \n",
       "\n",
       "     science  sst/cre  Creative Arts  music  \n",
       "0      False    False          False  False  \n",
       "1      False    False          False  False  \n",
       "2      False    False          False  False  \n",
       "3      False    False          False  False  \n",
       "4      False    False          False  False  \n",
       "..       ...      ...            ...    ...  \n",
       "142    False    False          False  False  \n",
       "143    False    False          False  False  \n",
       "144    False    False          False  False  \n",
       "145    False    False          False  False  \n",
       "146    False    False          False  False  \n",
       "\n",
       "[147 rows x 11 columns]"
      ]
     },
     "execution_count": 10,
     "metadata": {},
     "output_type": "execute_result"
    }
   ],
   "source": [
    "missing_values = df.isna()\n",
    "missing_values "
   ]
  },
  {
   "cell_type": "code",
   "execution_count": 11,
   "metadata": {
    "colab": {
     "base_uri": "https://localhost:8080/"
    },
    "id": "8AQxC3VuqcXa",
    "outputId": "2f1b63c1-6ced-4b84-86cd-66a73d7fe144"
   },
   "outputs": [
    {
     "data": {
      "text/plain": [
       "names                 0\n",
       "admission number     23\n",
       "house               121\n",
       "balance              89\n",
       "english              26\n",
       "kiswahili            28\n",
       "mathematics          17\n",
       "science              30\n",
       "sst/cre              15\n",
       "Creative Arts         4\n",
       "music                 0\n",
       "dtype: int64"
      ]
     },
     "execution_count": 11,
     "metadata": {},
     "output_type": "execute_result"
    }
   ],
   "source": [
    "# an interpretable version\n",
    "df.isna().sum()"
   ]
  },
  {
   "cell_type": "code",
   "execution_count": 12,
   "metadata": {
    "colab": {
     "base_uri": "https://localhost:8080/",
     "height": 332
    },
    "id": "CtsEBmf4rGyk",
    "outputId": "e4006546-fab2-4e4f-9ae1-603d5c04cc45"
   },
   "outputs": [
    {
     "data": {
      "text/html": [
       "<div>\n",
       "<style scoped>\n",
       "    .dataframe tbody tr th:only-of-type {\n",
       "        vertical-align: middle;\n",
       "    }\n",
       "\n",
       "    .dataframe tbody tr th {\n",
       "        vertical-align: top;\n",
       "    }\n",
       "\n",
       "    .dataframe thead th {\n",
       "        text-align: right;\n",
       "    }\n",
       "</style>\n",
       "<table border=\"1\" class=\"dataframe\">\n",
       "  <thead>\n",
       "    <tr style=\"text-align: right;\">\n",
       "      <th></th>\n",
       "      <th>Missing Values</th>\n",
       "      <th>Percentage(%)</th>\n",
       "    </tr>\n",
       "  </thead>\n",
       "  <tbody>\n",
       "    <tr>\n",
       "      <th>house</th>\n",
       "      <td>121</td>\n",
       "      <td>0.823129</td>\n",
       "    </tr>\n",
       "    <tr>\n",
       "      <th>balance</th>\n",
       "      <td>89</td>\n",
       "      <td>0.605442</td>\n",
       "    </tr>\n",
       "    <tr>\n",
       "      <th>science</th>\n",
       "      <td>30</td>\n",
       "      <td>0.204082</td>\n",
       "    </tr>\n",
       "    <tr>\n",
       "      <th>kiswahili</th>\n",
       "      <td>28</td>\n",
       "      <td>0.190476</td>\n",
       "    </tr>\n",
       "    <tr>\n",
       "      <th>english</th>\n",
       "      <td>26</td>\n",
       "      <td>0.176871</td>\n",
       "    </tr>\n",
       "    <tr>\n",
       "      <th>admission number</th>\n",
       "      <td>23</td>\n",
       "      <td>0.156463</td>\n",
       "    </tr>\n",
       "    <tr>\n",
       "      <th>mathematics</th>\n",
       "      <td>17</td>\n",
       "      <td>0.115646</td>\n",
       "    </tr>\n",
       "    <tr>\n",
       "      <th>sst/cre</th>\n",
       "      <td>15</td>\n",
       "      <td>0.102041</td>\n",
       "    </tr>\n",
       "    <tr>\n",
       "      <th>Creative Arts</th>\n",
       "      <td>4</td>\n",
       "      <td>0.027211</td>\n",
       "    </tr>\n",
       "  </tbody>\n",
       "</table>\n",
       "</div>"
      ],
      "text/plain": [
       "                  Missing Values  Percentage(%)\n",
       "house                        121       0.823129\n",
       "balance                       89       0.605442\n",
       "science                       30       0.204082\n",
       "kiswahili                     28       0.190476\n",
       "english                       26       0.176871\n",
       "admission number              23       0.156463\n",
       "mathematics                   17       0.115646\n",
       "sst/cre                       15       0.102041\n",
       "Creative Arts                  4       0.027211"
      ]
     },
     "execution_count": 12,
     "metadata": {},
     "output_type": "execute_result"
    }
   ],
   "source": [
    "# a more interpretable version\n",
    "def missing_values(data):\n",
    "    \"\"\"A simple function to identify data has missing values\"\"\"\n",
    "    # identify the total missing values per column\n",
    "    # sort in order \n",
    "    miss = data.isnull().sum().sort_values(ascending = False)\n",
    "\n",
    "    # calculate percentage of the missing values\n",
    "    percentage_miss = (data.isnull().sum() / len(data)).sort_values(ascending = False)\n",
    "\n",
    "    # store in a dataframe \n",
    "    missing = pd.DataFrame({\"Missing Values\": miss, \"Percentage(%)\": percentage_miss})\n",
    "\n",
    "    # remove values that are missing \n",
    "    missing.drop(missing[missing[\"Percentage(%)\"] == 0].index, inplace = True)\n",
    "\n",
    "    return missing\n",
    "\n",
    "\n",
    "missing_data = missing_values(df)\n",
    "missing_data"
   ]
  },
  {
   "cell_type": "markdown",
   "metadata": {
    "id": "q0UruxSgr1uz"
   },
   "source": [
    "![#c5f015](https://placehold.co/15x15/c5f015/c5f015.png) `The column house has ~82% of its values missing. Even if we are to take a guess, chances are we will most likely end up too much wrong information. Therefore, because of the amount of missing value we can safely drop the column house.`"
   ]
  },
  {
   "cell_type": "code",
   "execution_count": 13,
   "metadata": {
    "id": "5SZS-M1brv-p"
   },
   "outputs": [],
   "source": [
    "df.drop('house', axis = 1, inplace = True) #Drops the column house"
   ]
  },
  {
   "cell_type": "code",
   "execution_count": 14,
   "metadata": {
    "colab": {
     "base_uri": "https://localhost:8080/",
     "height": 112
    },
    "id": "enI3Utrfsi6A",
    "outputId": "d98b36a4-8a77-42d2-c216-4b9c3de5e26c"
   },
   "outputs": [
    {
     "data": {
      "text/html": [
       "<div>\n",
       "<style scoped>\n",
       "    .dataframe tbody tr th:only-of-type {\n",
       "        vertical-align: middle;\n",
       "    }\n",
       "\n",
       "    .dataframe tbody tr th {\n",
       "        vertical-align: top;\n",
       "    }\n",
       "\n",
       "    .dataframe thead th {\n",
       "        text-align: right;\n",
       "    }\n",
       "</style>\n",
       "<table border=\"1\" class=\"dataframe\">\n",
       "  <thead>\n",
       "    <tr style=\"text-align: right;\">\n",
       "      <th></th>\n",
       "      <th>names</th>\n",
       "      <th>admission number</th>\n",
       "      <th>balance</th>\n",
       "      <th>english</th>\n",
       "      <th>kiswahili</th>\n",
       "      <th>mathematics</th>\n",
       "      <th>science</th>\n",
       "      <th>sst/cre</th>\n",
       "      <th>Creative Arts</th>\n",
       "      <th>music</th>\n",
       "    </tr>\n",
       "  </thead>\n",
       "  <tbody>\n",
       "    <tr>\n",
       "      <th>0</th>\n",
       "      <td>JERIEL NDEDA, OBURA</td>\n",
       "      <td>13259.0</td>\n",
       "      <td>NaN</td>\n",
       "      <td>81.0</td>\n",
       "      <td>39.0</td>\n",
       "      <td>50.0</td>\n",
       "      <td>30.0</td>\n",
       "      <td>59.0</td>\n",
       "      <td>99%</td>\n",
       "      <td>80%</td>\n",
       "    </tr>\n",
       "    <tr>\n",
       "      <th>1</th>\n",
       "      <td>MUKUHA TIMOTHY, KAMAU</td>\n",
       "      <td>13243.0</td>\n",
       "      <td>NaN</td>\n",
       "      <td>85.0</td>\n",
       "      <td>74.0</td>\n",
       "      <td>68.0</td>\n",
       "      <td>49.0</td>\n",
       "      <td>78.0</td>\n",
       "      <td>38%</td>\n",
       "      <td>86%</td>\n",
       "    </tr>\n",
       "  </tbody>\n",
       "</table>\n",
       "</div>"
      ],
      "text/plain": [
       "                   names  admission number balance  english  kiswahili  \\\n",
       "0    JERIEL NDEDA, OBURA           13259.0     NaN     81.0       39.0   \n",
       "1  MUKUHA TIMOTHY, KAMAU           13243.0     NaN     85.0       74.0   \n",
       "\n",
       "   mathematics  science  sst/cre Creative Arts music  \n",
       "0         50.0     30.0     59.0           99%   80%  \n",
       "1         68.0     49.0     78.0           38%   86%  "
      ]
     },
     "execution_count": 14,
     "metadata": {},
     "output_type": "execute_result"
    }
   ],
   "source": [
    "df.head(2)"
   ]
  },
  {
   "cell_type": "markdown",
   "metadata": {
    "id": "sH3hw6i9tVNj"
   },
   "source": [
    "![#c5f015](https://placehold.co/15x15/c5f015/c5f015.png) `The column balance has ~60% of its values missing. What do you think is the best way to handle this data?`"
   ]
  },
  {
   "cell_type": "code",
   "execution_count": 15,
   "metadata": {
    "id": "mFFGlwJOtUNe"
   },
   "outputs": [],
   "source": [
    "# If you do have some real world knowledge about a variable,\n",
    "# you can use this information when replacing data, \n",
    "# for example, it is likely that the students with missing fee balances have no balance at all\n",
    "# so we can replace with zero, however, when analysing this column keep in mind that you have skewed this data point.\n",
    "\n",
    "df['balance'].replace(np.nan, 0, inplace=True, regex=False) # replaces nan with 0"
   ]
  },
  {
   "cell_type": "code",
   "execution_count": 16,
   "metadata": {
    "colab": {
     "base_uri": "https://localhost:8080/",
     "height": 112
    },
    "id": "A2-B6d-8uxLG",
    "outputId": "e0b71951-08c0-46c2-e255-671f75c1c2aa"
   },
   "outputs": [
    {
     "data": {
      "text/html": [
       "<div>\n",
       "<style scoped>\n",
       "    .dataframe tbody tr th:only-of-type {\n",
       "        vertical-align: middle;\n",
       "    }\n",
       "\n",
       "    .dataframe tbody tr th {\n",
       "        vertical-align: top;\n",
       "    }\n",
       "\n",
       "    .dataframe thead th {\n",
       "        text-align: right;\n",
       "    }\n",
       "</style>\n",
       "<table border=\"1\" class=\"dataframe\">\n",
       "  <thead>\n",
       "    <tr style=\"text-align: right;\">\n",
       "      <th></th>\n",
       "      <th>names</th>\n",
       "      <th>admission number</th>\n",
       "      <th>balance</th>\n",
       "      <th>english</th>\n",
       "      <th>kiswahili</th>\n",
       "      <th>mathematics</th>\n",
       "      <th>science</th>\n",
       "      <th>sst/cre</th>\n",
       "      <th>Creative Arts</th>\n",
       "      <th>music</th>\n",
       "    </tr>\n",
       "  </thead>\n",
       "  <tbody>\n",
       "    <tr>\n",
       "      <th>0</th>\n",
       "      <td>JERIEL NDEDA, OBURA</td>\n",
       "      <td>13259.0</td>\n",
       "      <td>0</td>\n",
       "      <td>81.0</td>\n",
       "      <td>39.0</td>\n",
       "      <td>50.0</td>\n",
       "      <td>30.0</td>\n",
       "      <td>59.0</td>\n",
       "      <td>99%</td>\n",
       "      <td>80%</td>\n",
       "    </tr>\n",
       "    <tr>\n",
       "      <th>1</th>\n",
       "      <td>MUKUHA TIMOTHY, KAMAU</td>\n",
       "      <td>13243.0</td>\n",
       "      <td>0</td>\n",
       "      <td>85.0</td>\n",
       "      <td>74.0</td>\n",
       "      <td>68.0</td>\n",
       "      <td>49.0</td>\n",
       "      <td>78.0</td>\n",
       "      <td>38%</td>\n",
       "      <td>86%</td>\n",
       "    </tr>\n",
       "  </tbody>\n",
       "</table>\n",
       "</div>"
      ],
      "text/plain": [
       "                   names  admission number balance  english  kiswahili  \\\n",
       "0    JERIEL NDEDA, OBURA           13259.0       0     81.0       39.0   \n",
       "1  MUKUHA TIMOTHY, KAMAU           13243.0       0     85.0       74.0   \n",
       "\n",
       "   mathematics  science  sst/cre Creative Arts music  \n",
       "0         50.0     30.0     59.0           99%   80%  \n",
       "1         68.0     49.0     78.0           38%   86%  "
      ]
     },
     "execution_count": 16,
     "metadata": {},
     "output_type": "execute_result"
    }
   ],
   "source": [
    "df.head(2)"
   ]
  },
  {
   "cell_type": "markdown",
   "metadata": {
    "id": "aE6xZLdHxW05"
   },
   "source": [
    "The columns english, **kiswahili, mathematics, science, sst/cre** are numeric columns with a very low perentage of missing values. We can replace them with the mean scores in those subjects."
   ]
  },
  {
   "cell_type": "code",
   "execution_count": 17,
   "metadata": {
    "id": "ZrxPh_opyTzw"
   },
   "outputs": [],
   "source": [
    "# Write a function that replaces nulls with mean simultaneously?"
   ]
  },
  {
   "cell_type": "code",
   "execution_count": 18,
   "metadata": {
    "cellView": "form",
    "id": "UAWaZ_5kxkR-"
   },
   "outputs": [],
   "source": [
    "#@title\n",
    "columns =['english', 'kiswahili', 'mathematics', 'science', 'sst/cre']\n",
    "def fill_numeric_missing(data, cols):\n",
    "    \"\"\"Simple function to replace missing values\"\"\"\n",
    "    for col in cols:\n",
    "        data[col].fillna(data[col].mean(), inplace=True)\n",
    "\n",
    "fill_numeric_missing(df, columns) "
   ]
  },
  {
   "cell_type": "code",
   "execution_count": 19,
   "metadata": {
    "colab": {
     "base_uri": "https://localhost:8080/",
     "height": 112
    },
    "id": "0reTjg0_yY0p",
    "outputId": "224791a9-81b5-4cdf-c65c-4f89d9302e3d"
   },
   "outputs": [
    {
     "data": {
      "text/html": [
       "<div>\n",
       "<style scoped>\n",
       "    .dataframe tbody tr th:only-of-type {\n",
       "        vertical-align: middle;\n",
       "    }\n",
       "\n",
       "    .dataframe tbody tr th {\n",
       "        vertical-align: top;\n",
       "    }\n",
       "\n",
       "    .dataframe thead th {\n",
       "        text-align: right;\n",
       "    }\n",
       "</style>\n",
       "<table border=\"1\" class=\"dataframe\">\n",
       "  <thead>\n",
       "    <tr style=\"text-align: right;\">\n",
       "      <th></th>\n",
       "      <th>Missing Values</th>\n",
       "      <th>Percentage(%)</th>\n",
       "    </tr>\n",
       "  </thead>\n",
       "  <tbody>\n",
       "    <tr>\n",
       "      <th>admission number</th>\n",
       "      <td>23</td>\n",
       "      <td>0.156463</td>\n",
       "    </tr>\n",
       "    <tr>\n",
       "      <th>Creative Arts</th>\n",
       "      <td>4</td>\n",
       "      <td>0.027211</td>\n",
       "    </tr>\n",
       "  </tbody>\n",
       "</table>\n",
       "</div>"
      ],
      "text/plain": [
       "                  Missing Values  Percentage(%)\n",
       "admission number              23       0.156463\n",
       "Creative Arts                  4       0.027211"
      ]
     },
     "execution_count": 19,
     "metadata": {},
     "output_type": "execute_result"
    }
   ],
   "source": [
    "missing_values(df)"
   ]
  },
  {
   "cell_type": "code",
   "execution_count": 20,
   "metadata": {
    "id": "ygGo8IZLzF4y"
   },
   "outputs": [],
   "source": [
    "# Drop the rows where admission number is missing"
   ]
  },
  {
   "cell_type": "code",
   "execution_count": 21,
   "metadata": {
    "cellView": "form",
    "id": "bes4qmAtzCh9"
   },
   "outputs": [],
   "source": [
    "#@title\n",
    "# drop along the row using axis = 0\n",
    "# specify the column using subset\n",
    "df.dropna(axis = 0, subset=['admission number'], inplace=True)"
   ]
  },
  {
   "cell_type": "code",
   "execution_count": 22,
   "metadata": {
    "colab": {
     "base_uri": "https://localhost:8080/",
     "height": 81
    },
    "id": "5pTLRPn6zpug",
    "outputId": "a93ce914-d91b-4894-8955-c3b44ea23ae3"
   },
   "outputs": [
    {
     "data": {
      "text/html": [
       "<div>\n",
       "<style scoped>\n",
       "    .dataframe tbody tr th:only-of-type {\n",
       "        vertical-align: middle;\n",
       "    }\n",
       "\n",
       "    .dataframe tbody tr th {\n",
       "        vertical-align: top;\n",
       "    }\n",
       "\n",
       "    .dataframe thead th {\n",
       "        text-align: right;\n",
       "    }\n",
       "</style>\n",
       "<table border=\"1\" class=\"dataframe\">\n",
       "  <thead>\n",
       "    <tr style=\"text-align: right;\">\n",
       "      <th></th>\n",
       "      <th>Missing Values</th>\n",
       "      <th>Percentage(%)</th>\n",
       "    </tr>\n",
       "  </thead>\n",
       "  <tbody>\n",
       "    <tr>\n",
       "      <th>Creative Arts</th>\n",
       "      <td>4</td>\n",
       "      <td>0.032258</td>\n",
       "    </tr>\n",
       "  </tbody>\n",
       "</table>\n",
       "</div>"
      ],
      "text/plain": [
       "               Missing Values  Percentage(%)\n",
       "Creative Arts               4       0.032258"
      ]
     },
     "execution_count": 22,
     "metadata": {},
     "output_type": "execute_result"
    }
   ],
   "source": [
    "missing_values(df)"
   ]
  },
  {
   "cell_type": "markdown",
   "metadata": {
    "id": "IuCVKwqtz2Wr"
   },
   "source": [
    "Columns creative arts and music have data stored in percentages. This should be numeric, however the percentage sign is restricting the data type to object."
   ]
  },
  {
   "cell_type": "markdown",
   "metadata": {
    "id": "hwtECi616MzD"
   },
   "source": [
    "### Fix Structural Issues"
   ]
  },
  {
   "cell_type": "code",
   "execution_count": 23,
   "metadata": {
    "colab": {
     "base_uri": "https://localhost:8080/",
     "height": 206
    },
    "id": "yl1yVN0K6MzD",
    "outputId": "2186df80-d789-4b6d-c494-f5d0fccb5cbc"
   },
   "outputs": [
    {
     "data": {
      "text/html": [
       "<div>\n",
       "<style scoped>\n",
       "    .dataframe tbody tr th:only-of-type {\n",
       "        vertical-align: middle;\n",
       "    }\n",
       "\n",
       "    .dataframe tbody tr th {\n",
       "        vertical-align: top;\n",
       "    }\n",
       "\n",
       "    .dataframe thead th {\n",
       "        text-align: right;\n",
       "    }\n",
       "</style>\n",
       "<table border=\"1\" class=\"dataframe\">\n",
       "  <thead>\n",
       "    <tr style=\"text-align: right;\">\n",
       "      <th></th>\n",
       "      <th>names</th>\n",
       "      <th>admission number</th>\n",
       "      <th>balance</th>\n",
       "      <th>english</th>\n",
       "      <th>kiswahili</th>\n",
       "      <th>mathematics</th>\n",
       "      <th>science</th>\n",
       "      <th>sst/cre</th>\n",
       "      <th>Creative Arts</th>\n",
       "      <th>music</th>\n",
       "    </tr>\n",
       "  </thead>\n",
       "  <tbody>\n",
       "    <tr>\n",
       "      <th>0</th>\n",
       "      <td>JERIEL NDEDA, OBURA</td>\n",
       "      <td>13259.0</td>\n",
       "      <td>0</td>\n",
       "      <td>81.0</td>\n",
       "      <td>39.0</td>\n",
       "      <td>50.0</td>\n",
       "      <td>30.0</td>\n",
       "      <td>59.0</td>\n",
       "      <td>99</td>\n",
       "      <td>80</td>\n",
       "    </tr>\n",
       "    <tr>\n",
       "      <th>1</th>\n",
       "      <td>MUKUHA TIMOTHY, KAMAU</td>\n",
       "      <td>13243.0</td>\n",
       "      <td>0</td>\n",
       "      <td>85.0</td>\n",
       "      <td>74.0</td>\n",
       "      <td>68.0</td>\n",
       "      <td>49.0</td>\n",
       "      <td>78.0</td>\n",
       "      <td>38</td>\n",
       "      <td>86</td>\n",
       "    </tr>\n",
       "    <tr>\n",
       "      <th>2</th>\n",
       "      <td>JOB, NGARA</td>\n",
       "      <td>13307.0</td>\n",
       "      <td>0</td>\n",
       "      <td>54.0</td>\n",
       "      <td>49.0</td>\n",
       "      <td>53.0</td>\n",
       "      <td>59.0</td>\n",
       "      <td>72.0</td>\n",
       "      <td>86</td>\n",
       "      <td>62</td>\n",
       "    </tr>\n",
       "    <tr>\n",
       "      <th>3</th>\n",
       "      <td>CHEGE DAVID, KAMAU</td>\n",
       "      <td>13258.0</td>\n",
       "      <td>0</td>\n",
       "      <td>71.0</td>\n",
       "      <td>97.0</td>\n",
       "      <td>92.0</td>\n",
       "      <td>41.0</td>\n",
       "      <td>81.0</td>\n",
       "      <td>77</td>\n",
       "      <td>80</td>\n",
       "    </tr>\n",
       "    <tr>\n",
       "      <th>4</th>\n",
       "      <td>RAMADHAN MUSA, TEPO</td>\n",
       "      <td>13363.0</td>\n",
       "      <td>0</td>\n",
       "      <td>40.0</td>\n",
       "      <td>84.0</td>\n",
       "      <td>74.0</td>\n",
       "      <td>82.0</td>\n",
       "      <td>89.0</td>\n",
       "      <td>64</td>\n",
       "      <td>46</td>\n",
       "    </tr>\n",
       "  </tbody>\n",
       "</table>\n",
       "</div>"
      ],
      "text/plain": [
       "                   names  admission number balance  english  kiswahili  \\\n",
       "0    JERIEL NDEDA, OBURA           13259.0       0     81.0       39.0   \n",
       "1  MUKUHA TIMOTHY, KAMAU           13243.0       0     85.0       74.0   \n",
       "2             JOB, NGARA           13307.0       0     54.0       49.0   \n",
       "3     CHEGE DAVID, KAMAU           13258.0       0     71.0       97.0   \n",
       "4    RAMADHAN MUSA, TEPO           13363.0       0     40.0       84.0   \n",
       "\n",
       "   mathematics  science  sst/cre Creative Arts music  \n",
       "0         50.0     30.0     59.0            99    80  \n",
       "1         68.0     49.0     78.0            38    86  \n",
       "2         53.0     59.0     72.0            86    62  \n",
       "3         92.0     41.0     81.0            77    80  \n",
       "4         74.0     82.0     89.0            64    46  "
      ]
     },
     "execution_count": 23,
     "metadata": {},
     "output_type": "execute_result"
    }
   ],
   "source": [
    "def remove_character(data, cols, characters):\n",
    "    \"\"\"simple function to remove characters\"\"\"\n",
    "    # loop through the columns\n",
    "    for col in cols:\n",
    "        data[col] = data[col].str.strip(characters)\n",
    "\n",
    "    return data.head()\n",
    "\n",
    "remove_character(df, ['Creative Arts', 'music'], '%')"
   ]
  },
  {
   "cell_type": "markdown",
   "metadata": {
    "id": "aWoCr7WI6MzD"
   },
   "source": [
    "Even after removing the ```%``` sign, we still have to \"explain\" to the computer that this are actually numbers and not characters. \n"
   ]
  },
  {
   "cell_type": "code",
   "execution_count": 24,
   "metadata": {
    "colab": {
     "base_uri": "https://localhost:8080/",
     "height": 206
    },
    "id": "VPXTxrZg6MzE",
    "outputId": "adc9b90b-9868-41af-e315-e3a4beaf2608"
   },
   "outputs": [
    {
     "data": {
      "text/html": [
       "<div>\n",
       "<style scoped>\n",
       "    .dataframe tbody tr th:only-of-type {\n",
       "        vertical-align: middle;\n",
       "    }\n",
       "\n",
       "    .dataframe tbody tr th {\n",
       "        vertical-align: top;\n",
       "    }\n",
       "\n",
       "    .dataframe thead th {\n",
       "        text-align: right;\n",
       "    }\n",
       "</style>\n",
       "<table border=\"1\" class=\"dataframe\">\n",
       "  <thead>\n",
       "    <tr style=\"text-align: right;\">\n",
       "      <th></th>\n",
       "      <th>names</th>\n",
       "      <th>admission number</th>\n",
       "      <th>balance</th>\n",
       "      <th>english</th>\n",
       "      <th>kiswahili</th>\n",
       "      <th>mathematics</th>\n",
       "      <th>science</th>\n",
       "      <th>sst/cre</th>\n",
       "      <th>Creative Arts</th>\n",
       "      <th>music</th>\n",
       "    </tr>\n",
       "  </thead>\n",
       "  <tbody>\n",
       "    <tr>\n",
       "      <th>0</th>\n",
       "      <td>JERIEL NDEDA, OBURA</td>\n",
       "      <td>13259.0</td>\n",
       "      <td>0</td>\n",
       "      <td>81.0</td>\n",
       "      <td>39.0</td>\n",
       "      <td>50.0</td>\n",
       "      <td>30.0</td>\n",
       "      <td>59.0</td>\n",
       "      <td>99</td>\n",
       "      <td>80</td>\n",
       "    </tr>\n",
       "    <tr>\n",
       "      <th>1</th>\n",
       "      <td>MUKUHA TIMOTHY, KAMAU</td>\n",
       "      <td>13243.0</td>\n",
       "      <td>0</td>\n",
       "      <td>85.0</td>\n",
       "      <td>74.0</td>\n",
       "      <td>68.0</td>\n",
       "      <td>49.0</td>\n",
       "      <td>78.0</td>\n",
       "      <td>38</td>\n",
       "      <td>86</td>\n",
       "    </tr>\n",
       "    <tr>\n",
       "      <th>2</th>\n",
       "      <td>JOB, NGARA</td>\n",
       "      <td>13307.0</td>\n",
       "      <td>0</td>\n",
       "      <td>54.0</td>\n",
       "      <td>49.0</td>\n",
       "      <td>53.0</td>\n",
       "      <td>59.0</td>\n",
       "      <td>72.0</td>\n",
       "      <td>86</td>\n",
       "      <td>62</td>\n",
       "    </tr>\n",
       "    <tr>\n",
       "      <th>3</th>\n",
       "      <td>CHEGE DAVID, KAMAU</td>\n",
       "      <td>13258.0</td>\n",
       "      <td>0</td>\n",
       "      <td>71.0</td>\n",
       "      <td>97.0</td>\n",
       "      <td>92.0</td>\n",
       "      <td>41.0</td>\n",
       "      <td>81.0</td>\n",
       "      <td>77</td>\n",
       "      <td>80</td>\n",
       "    </tr>\n",
       "    <tr>\n",
       "      <th>4</th>\n",
       "      <td>RAMADHAN MUSA, TEPO</td>\n",
       "      <td>13363.0</td>\n",
       "      <td>0</td>\n",
       "      <td>40.0</td>\n",
       "      <td>84.0</td>\n",
       "      <td>74.0</td>\n",
       "      <td>82.0</td>\n",
       "      <td>89.0</td>\n",
       "      <td>64</td>\n",
       "      <td>46</td>\n",
       "    </tr>\n",
       "  </tbody>\n",
       "</table>\n",
       "</div>"
      ],
      "text/plain": [
       "                   names  admission number balance  english  kiswahili  \\\n",
       "0    JERIEL NDEDA, OBURA           13259.0       0     81.0       39.0   \n",
       "1  MUKUHA TIMOTHY, KAMAU           13243.0       0     85.0       74.0   \n",
       "2             JOB, NGARA           13307.0       0     54.0       49.0   \n",
       "3     CHEGE DAVID, KAMAU           13258.0       0     71.0       97.0   \n",
       "4    RAMADHAN MUSA, TEPO           13363.0       0     40.0       84.0   \n",
       "\n",
       "   mathematics  science  sst/cre Creative Arts music  \n",
       "0         50.0     30.0     59.0            99    80  \n",
       "1         68.0     49.0     78.0            38    86  \n",
       "2         53.0     59.0     72.0            86    62  \n",
       "3         92.0     41.0     81.0            77    80  \n",
       "4         74.0     82.0     89.0            64    46  "
      ]
     },
     "execution_count": 24,
     "metadata": {},
     "output_type": "execute_result"
    }
   ],
   "source": [
    "# remove the & sign \n",
    "remove_character(df, ['Creative Arts', 'music'], '&')"
   ]
  },
  {
   "cell_type": "markdown",
   "metadata": {
    "id": "A-X9YZKM6MzF"
   },
   "source": [
    "When dealing with numbers, especially money, we are most likely to add the ```,``` to show thousands, millions etc. In the event we have such data, like in this case the column **balance**, the computer is going to categorize ```14,000``` as a string and not a number."
   ]
  },
  {
   "cell_type": "code",
   "execution_count": 25,
   "metadata": {
    "id": "BBO5IU8W6MzG"
   },
   "outputs": [],
   "source": [
    "# remove the , character from balance\n",
    "df['balance'].replace(\",\", \"\", inplace=True, regex=True) # removes ,"
   ]
  },
  {
   "cell_type": "markdown",
   "metadata": {
    "id": "dUbLGzFl6MzG"
   },
   "source": [
    "📝 **Note** - Setting regex as ```True``` since the value we are replacing is a string."
   ]
  },
  {
   "cell_type": "code",
   "execution_count": 26,
   "metadata": {
    "colab": {
     "base_uri": "https://localhost:8080/"
    },
    "id": "n-TlFIMO6MzE",
    "outputId": "9c9edf6d-a564-4fd4-f27f-ab7d7788f6de"
   },
   "outputs": [
    {
     "data": {
      "text/plain": [
       "names                object\n",
       "admission number    float64\n",
       "balance              object\n",
       "english             float64\n",
       "kiswahili           float64\n",
       "mathematics         float64\n",
       "science             float64\n",
       "sst/cre             float64\n",
       "Creative Arts        object\n",
       "music                object\n",
       "dtype: object"
      ]
     },
     "execution_count": 26,
     "metadata": {},
     "output_type": "execute_result"
    }
   ],
   "source": [
    "# data types\n",
    "df.dtypes"
   ]
  },
  {
   "cell_type": "code",
   "execution_count": 27,
   "metadata": {
    "colab": {
     "base_uri": "https://localhost:8080/"
    },
    "id": "DdG27f3x6MzF",
    "outputId": "de7b292f-e297-4b7b-cdf6-ca687f7ce77e"
   },
   "outputs": [
    {
     "data": {
      "text/plain": [
       "names                object\n",
       "admission number    float64\n",
       "balance             float64\n",
       "english             float64\n",
       "kiswahili           float64\n",
       "mathematics         float64\n",
       "science             float64\n",
       "sst/cre             float64\n",
       "Creative Arts       float64\n",
       "music               float64\n",
       "dtype: object"
      ]
     },
     "execution_count": 27,
     "metadata": {},
     "output_type": "execute_result"
    }
   ],
   "source": [
    "# change data types\n",
    "def change_data_type(data, cols, type):\n",
    "    \"\"\"Simple function to change columns data type\"\"\"\n",
    "    for col in cols:\n",
    "        data[col] = data[col].astype(type)\n",
    "\n",
    "    return data.dtypes # confirm the data types\n",
    "\n",
    "\n",
    "change_data_type(df, [\"balance\", \"Creative Arts\", \"music\"], 'float')\n"
   ]
  },
  {
   "cell_type": "code",
   "execution_count": 28,
   "metadata": {
    "colab": {
     "base_uri": "https://localhost:8080/",
     "height": 81
    },
    "id": "xAf7PpWW1-vo",
    "outputId": "bef15f6c-9982-4188-96fe-955914e424fd"
   },
   "outputs": [
    {
     "data": {
      "text/html": [
       "<div>\n",
       "<style scoped>\n",
       "    .dataframe tbody tr th:only-of-type {\n",
       "        vertical-align: middle;\n",
       "    }\n",
       "\n",
       "    .dataframe tbody tr th {\n",
       "        vertical-align: top;\n",
       "    }\n",
       "\n",
       "    .dataframe thead th {\n",
       "        text-align: right;\n",
       "    }\n",
       "</style>\n",
       "<table border=\"1\" class=\"dataframe\">\n",
       "  <thead>\n",
       "    <tr style=\"text-align: right;\">\n",
       "      <th></th>\n",
       "      <th>Missing Values</th>\n",
       "      <th>Percentage(%)</th>\n",
       "    </tr>\n",
       "  </thead>\n",
       "  <tbody>\n",
       "    <tr>\n",
       "      <th>Creative Arts</th>\n",
       "      <td>4</td>\n",
       "      <td>0.032258</td>\n",
       "    </tr>\n",
       "  </tbody>\n",
       "</table>\n",
       "</div>"
      ],
      "text/plain": [
       "               Missing Values  Percentage(%)\n",
       "Creative Arts               4       0.032258"
      ]
     },
     "execution_count": 28,
     "metadata": {},
     "output_type": "execute_result"
    }
   ],
   "source": [
    "missing_values(df)"
   ]
  },
  {
   "cell_type": "code",
   "execution_count": 29,
   "metadata": {
    "colab": {
     "base_uri": "https://localhost:8080/",
     "height": 49
    },
    "id": "jIddyaeo2Bmq",
    "outputId": "ece3b26f-6d77-406e-9657-230944d6db27"
   },
   "outputs": [
    {
     "data": {
      "text/html": [
       "<div>\n",
       "<style scoped>\n",
       "    .dataframe tbody tr th:only-of-type {\n",
       "        vertical-align: middle;\n",
       "    }\n",
       "\n",
       "    .dataframe tbody tr th {\n",
       "        vertical-align: top;\n",
       "    }\n",
       "\n",
       "    .dataframe thead th {\n",
       "        text-align: right;\n",
       "    }\n",
       "</style>\n",
       "<table border=\"1\" class=\"dataframe\">\n",
       "  <thead>\n",
       "    <tr style=\"text-align: right;\">\n",
       "      <th></th>\n",
       "      <th>Missing Values</th>\n",
       "      <th>Percentage(%)</th>\n",
       "    </tr>\n",
       "  </thead>\n",
       "  <tbody>\n",
       "  </tbody>\n",
       "</table>\n",
       "</div>"
      ],
      "text/plain": [
       "Empty DataFrame\n",
       "Columns: [Missing Values, Percentage(%)]\n",
       "Index: []"
      ]
     },
     "execution_count": 29,
     "metadata": {},
     "output_type": "execute_result"
    }
   ],
   "source": [
    "# specify the column using subset\n",
    "df.dropna(axis = 0, subset=['Creative Arts'], inplace=True)\n",
    "missing_values(df)"
   ]
  },
  {
   "cell_type": "markdown",
   "metadata": {
    "id": "jXFIoBHq6My9"
   },
   "source": [
    "### Removal of Duplicate and Unwanted Observations\n",
    "\n",
    "* **Duplicated Entries** - Complete carbon copy of rows or column values. \n",
    "* **Unwanted observations** - Irrelevant data records that don’t actually fit the specific problem you are trying to analyze or solve"
   ]
  },
  {
   "cell_type": "code",
   "execution_count": 30,
   "metadata": {
    "colab": {
     "base_uri": "https://localhost:8080/",
     "height": 300
    },
    "id": "6bFj5Nsa2qvk",
    "outputId": "55e4fa38-56e4-4bdd-98a6-9f7b134e88da"
   },
   "outputs": [
    {
     "data": {
      "text/html": [
       "<div>\n",
       "<style scoped>\n",
       "    .dataframe tbody tr th:only-of-type {\n",
       "        vertical-align: middle;\n",
       "    }\n",
       "\n",
       "    .dataframe tbody tr th {\n",
       "        vertical-align: top;\n",
       "    }\n",
       "\n",
       "    .dataframe thead th {\n",
       "        text-align: right;\n",
       "    }\n",
       "</style>\n",
       "<table border=\"1\" class=\"dataframe\">\n",
       "  <thead>\n",
       "    <tr style=\"text-align: right;\">\n",
       "      <th></th>\n",
       "      <th>names</th>\n",
       "      <th>admission number</th>\n",
       "      <th>balance</th>\n",
       "      <th>english</th>\n",
       "      <th>kiswahili</th>\n",
       "      <th>mathematics</th>\n",
       "      <th>science</th>\n",
       "      <th>sst/cre</th>\n",
       "      <th>Creative Arts</th>\n",
       "      <th>music</th>\n",
       "    </tr>\n",
       "  </thead>\n",
       "  <tbody>\n",
       "    <tr>\n",
       "      <th>62</th>\n",
       "      <td>MSHINDI DANIEL, OUMA</td>\n",
       "      <td>13367.0</td>\n",
       "      <td>24463.0</td>\n",
       "      <td>78.0</td>\n",
       "      <td>29.0</td>\n",
       "      <td>50.0</td>\n",
       "      <td>62.0</td>\n",
       "      <td>50.0</td>\n",
       "      <td>86.0</td>\n",
       "      <td>53.0</td>\n",
       "    </tr>\n",
       "    <tr>\n",
       "      <th>88</th>\n",
       "      <td>MUENDO CICILY, MUTHEU</td>\n",
       "      <td>13283.0</td>\n",
       "      <td>0.0</td>\n",
       "      <td>43.0</td>\n",
       "      <td>60.0</td>\n",
       "      <td>48.0</td>\n",
       "      <td>94.0</td>\n",
       "      <td>97.0</td>\n",
       "      <td>69.0</td>\n",
       "      <td>45.0</td>\n",
       "    </tr>\n",
       "    <tr>\n",
       "      <th>100</th>\n",
       "      <td>JERIEL NDEDA, OBURA</td>\n",
       "      <td>13259.0</td>\n",
       "      <td>0.0</td>\n",
       "      <td>81.0</td>\n",
       "      <td>39.0</td>\n",
       "      <td>50.0</td>\n",
       "      <td>30.0</td>\n",
       "      <td>59.0</td>\n",
       "      <td>99.0</td>\n",
       "      <td>80.0</td>\n",
       "    </tr>\n",
       "    <tr>\n",
       "      <th>101</th>\n",
       "      <td>MUKUHA TIMOTHY, KAMAU</td>\n",
       "      <td>13243.0</td>\n",
       "      <td>0.0</td>\n",
       "      <td>85.0</td>\n",
       "      <td>74.0</td>\n",
       "      <td>68.0</td>\n",
       "      <td>49.0</td>\n",
       "      <td>78.0</td>\n",
       "      <td>38.0</td>\n",
       "      <td>86.0</td>\n",
       "    </tr>\n",
       "    <tr>\n",
       "      <th>102</th>\n",
       "      <td>JOB, NGARA</td>\n",
       "      <td>13307.0</td>\n",
       "      <td>0.0</td>\n",
       "      <td>54.0</td>\n",
       "      <td>49.0</td>\n",
       "      <td>53.0</td>\n",
       "      <td>59.0</td>\n",
       "      <td>72.0</td>\n",
       "      <td>86.0</td>\n",
       "      <td>62.0</td>\n",
       "    </tr>\n",
       "    <tr>\n",
       "      <th>103</th>\n",
       "      <td>CHEGE DAVID, KAMAU</td>\n",
       "      <td>13258.0</td>\n",
       "      <td>0.0</td>\n",
       "      <td>71.0</td>\n",
       "      <td>97.0</td>\n",
       "      <td>92.0</td>\n",
       "      <td>41.0</td>\n",
       "      <td>81.0</td>\n",
       "      <td>77.0</td>\n",
       "      <td>80.0</td>\n",
       "    </tr>\n",
       "    <tr>\n",
       "      <th>104</th>\n",
       "      <td>RAMADHAN MUSA, TEPO</td>\n",
       "      <td>13363.0</td>\n",
       "      <td>0.0</td>\n",
       "      <td>40.0</td>\n",
       "      <td>84.0</td>\n",
       "      <td>74.0</td>\n",
       "      <td>82.0</td>\n",
       "      <td>89.0</td>\n",
       "      <td>64.0</td>\n",
       "      <td>46.0</td>\n",
       "    </tr>\n",
       "    <tr>\n",
       "      <th>105</th>\n",
       "      <td>MUENDO CICILY, MUTHEU</td>\n",
       "      <td>13283.0</td>\n",
       "      <td>0.0</td>\n",
       "      <td>43.0</td>\n",
       "      <td>60.0</td>\n",
       "      <td>48.0</td>\n",
       "      <td>94.0</td>\n",
       "      <td>97.0</td>\n",
       "      <td>69.0</td>\n",
       "      <td>45.0</td>\n",
       "    </tr>\n",
       "  </tbody>\n",
       "</table>\n",
       "</div>"
      ],
      "text/plain": [
       "                     names  admission number  balance  english  kiswahili  \\\n",
       "62    MSHINDI DANIEL, OUMA           13367.0  24463.0     78.0       29.0   \n",
       "88   MUENDO CICILY, MUTHEU           13283.0      0.0     43.0       60.0   \n",
       "100    JERIEL NDEDA, OBURA           13259.0      0.0     81.0       39.0   \n",
       "101  MUKUHA TIMOTHY, KAMAU           13243.0      0.0     85.0       74.0   \n",
       "102             JOB, NGARA           13307.0      0.0     54.0       49.0   \n",
       "103     CHEGE DAVID, KAMAU           13258.0      0.0     71.0       97.0   \n",
       "104    RAMADHAN MUSA, TEPO           13363.0      0.0     40.0       84.0   \n",
       "105  MUENDO CICILY, MUTHEU           13283.0      0.0     43.0       60.0   \n",
       "\n",
       "     mathematics  science  sst/cre  Creative Arts  music  \n",
       "62          50.0     62.0     50.0           86.0   53.0  \n",
       "88          48.0     94.0     97.0           69.0   45.0  \n",
       "100         50.0     30.0     59.0           99.0   80.0  \n",
       "101         68.0     49.0     78.0           38.0   86.0  \n",
       "102         53.0     59.0     72.0           86.0   62.0  \n",
       "103         92.0     41.0     81.0           77.0   80.0  \n",
       "104         74.0     82.0     89.0           64.0   46.0  \n",
       "105         48.0     94.0     97.0           69.0   45.0  "
      ]
     },
     "execution_count": 30,
     "metadata": {},
     "output_type": "execute_result"
    }
   ],
   "source": [
    "# Identify duplicate data\n",
    "duplicate_rows = df[df.duplicated()]\n",
    "duplicate_rows"
   ]
  },
  {
   "cell_type": "code",
   "execution_count": 31,
   "metadata": {
    "colab": {
     "base_uri": "https://localhost:8080/"
    },
    "id": "6hH7TWjzEphn",
    "outputId": "8b6b03d8-bede-46da-8307-3cdb68a1474d"
   },
   "outputs": [
    {
     "data": {
      "text/plain": [
       "8"
      ]
     },
     "execution_count": 31,
     "metadata": {},
     "output_type": "execute_result"
    }
   ],
   "source": [
    "# Usefule addition:\n",
    "df.duplicated().sum() #counts duplicated data"
   ]
  },
  {
   "cell_type": "code",
   "execution_count": 32,
   "metadata": {
    "colab": {
     "base_uri": "https://localhost:8080/"
    },
    "id": "ToBhGnFOFAvf",
    "outputId": "71083231-22cb-471e-e199-da779e4bd763"
   },
   "outputs": [
    {
     "data": {
      "text/plain": [
       "8"
      ]
     },
     "execution_count": 32,
     "metadata": {},
     "output_type": "execute_result"
    }
   ],
   "source": [
    "# Also, if you want to be specific to a row:\n",
    "df.duplicated(['names', 'admission number']).sum()"
   ]
  },
  {
   "cell_type": "code",
   "execution_count": 33,
   "metadata": {
    "colab": {
     "base_uri": "https://localhost:8080/"
    },
    "id": "N2Q2BOozGTWc",
    "outputId": "aaa32ca8-9015-4f71-8f85-feb6d1465e25"
   },
   "outputs": [
    {
     "name": "stdout",
     "output_type": "stream",
     "text": [
      "32\n",
      "0.26666666666666666\n"
     ]
    }
   ],
   "source": [
    "print(df.duplicated(['admission number']).sum())\n",
    "print(df.duplicated(['admission number']).sum()/df.shape[0])"
   ]
  },
  {
   "cell_type": "markdown",
   "metadata": {
    "id": "IHnaBbOIFwO_"
   },
   "source": [
    "We handle duplicates in two ways:\n",
    "\n",
    "1. Removing duplicates\n",
    "2. Keeping them\n",
    "\n",
    "This is dependent on the amount and type of data."
   ]
  },
  {
   "cell_type": "markdown",
   "metadata": {
    "id": "9Xiceh3xGoed"
   },
   "source": [
    "From above, we can clearly point out that 24 students have the same admission number, which practically is not possible as each student is required to have a unique admission number. What do you think you should do?"
   ]
  },
  {
   "cell_type": "code",
   "execution_count": 34,
   "metadata": {
    "colab": {
     "base_uri": "https://localhost:8080/"
    },
    "id": "vt2mPkvg6My-",
    "outputId": "40dbcf41-7d81-41c8-c5cb-822e59a3a5fb"
   },
   "outputs": [
    {
     "data": {
      "text/plain": [
       "0"
      ]
     },
     "execution_count": 34,
     "metadata": {},
     "output_type": "execute_result"
    }
   ],
   "source": [
    "# handling the duplicates \n",
    "# remove duplicated rows\n",
    "df.drop_duplicates(subset=None, keep=\"first\", inplace=True)\n",
    "df.duplicated().sum() "
   ]
  },
  {
   "cell_type": "markdown",
   "metadata": {
    "id": "q_zNV0PW6MzH"
   },
   "source": [
    "### Outliers\n",
    "\n",
    "![outliers](https://www.researchgate.net/publication/10633674/figure/fig5/AS:267602974998545@1440812929396/A-normal-distribution-with-outliers-showing-the-relative-positions-of-the-mean-median_Q640.jpg)\n",
    "\n",
    "Outliers are extreme data points that vary immensely from the other points. They are the hardest to detect using ones eye among other data inaccuracies within the data in the sense that they are often of the same type as the other observations. Therefore, it is important to understand that just because they exist, doesn’t mean they are incorrect and as such, there should be a valid reason to remove these data points.\n",
    "\n",
    "Because of the data that we have we are going to use \"unconventional\" techniques to handle this outliers.\n",
    "\n",
    "```Z-score``` and ```IQR``` are common techniques used for identifying and removing outliers. However, ```boxplot``` are the easiest to utilise when visualizing outliers.\n",
    "\n",
    "Understanding boxplots:\n",
    "![boxplot](https://justinsighting.com/wp-content/uploads/2016/12/boxplot-description.png)\n",
    "\n",
    "📝 _Just because they exist, doesn't mean they are wrong_.\n"
   ]
  },
  {
   "cell_type": "code",
   "execution_count": 122,
   "metadata": {
    "colab": {
     "base_uri": "https://localhost:8080/",
     "height": 282
    },
    "id": "YsCzl-Jg6MzI",
    "outputId": "10160f75-9b15-4d21-adc5-8b4386529e8a"
   },
   "outputs": [
    {
     "data": {
      "text/plain": [
       "<AxesSubplot:>"
      ]
     },
     "execution_count": 122,
     "metadata": {},
     "output_type": "execute_result"
    },
    {
     "data": {
      "image/png": "[encoded data removed]",
      "text/plain": [
       "<Figure size 640x480 with 1 Axes>"
      ]
     },
     "metadata": {},
     "output_type": "display_data"
    }
   ],
   "source": [
    "# we can also use a box plot to identify outliers\n",
    "scores_columns = ['english', 'kiswahili', 'mathematics', 'science', 'sst/cre', 'Creative Arts', 'music']\n",
    "df.boxplot(column=scores_columns)  "
   ]
  },
  {
   "cell_type": "code",
   "execution_count": 36,
   "metadata": {
    "colab": {
     "base_uri": "https://localhost:8080/",
     "height": 282
    },
    "id": "s9serUEsHOS7",
    "outputId": "5764688e-8076-47a6-8837-f29dfd03d0e9"
   },
   "outputs": [
    {
     "data": {
      "text/plain": [
       "<AxesSubplot:>"
      ]
     },
     "execution_count": 36,
     "metadata": {},
     "output_type": "execute_result"
    },
    {
     "data": {
      "image/png": "[encoded data removed]",
      "text/plain": [
       "<Figure size 640x480 with 1 Axes>"
      ]
     },
     "metadata": {},
     "output_type": "display_data"
    }
   ],
   "source": [
    "# More precisely, we can visualize using one column\n",
    "df.boxplot(column='english')  \n"
   ]
  },
  {
   "cell_type": "code",
   "execution_count": 37,
   "metadata": {
    "colab": {
     "base_uri": "https://localhost:8080/"
    },
    "id": "C7Wn0wuG6MzI",
    "outputId": "a9e20d56-984b-4edc-f890-bca5bd55074f"
   },
   "outputs": [
    {
     "data": {
      "text/plain": [
       "[-78.0, 508.0]"
      ]
     },
     "execution_count": 37,
     "metadata": {},
     "output_type": "execute_result"
    }
   ],
   "source": [
    "# Getting outliers\n",
    "def IQR_outliers(data, column):\n",
    "    \"\"\"Simple function to identify and remove outliers using IQR\"\"\"\n",
    "    # get Q1 and Q2\n",
    "    Q1 = data[column].quantile(0.25)\n",
    "    Q3 = data[column].quantile(0.75)\n",
    "    # calculate IQR\n",
    "    IQR = Q3-Q1\n",
    "    # identify ouliers (returns True if an outlier)\n",
    "    out = ((data[column]<(Q1-1.5*IQR)) | (data[column]>(Q3+1.5*IQR)))\n",
    "\n",
    "    # identify the outlier using index\n",
    "    outliers_list = list(out[out==True].index)\n",
    "    # identify the actual outliers using index\n",
    "    outliers = []\n",
    "    for val in outliers_list:\n",
    "        outliers.append(data[column][val])\n",
    "\n",
    "    \n",
    "    return outliers, Q1, Q3, IQR\n",
    "\n",
    "\n",
    "english_outliers = IQR_outliers(df, \"english\")\n",
    "english_outliers[0]"
   ]
  },
  {
   "cell_type": "code",
   "execution_count": 38,
   "metadata": {
    "id": "To252ZgF6MzJ"
   },
   "outputs": [],
   "source": [
    "# Dealing with outliers using IQR\n",
    "def IQR_remove_outliers(data, column):\n",
    "    \"\"\"Simple function to remove the ouliers\"\"\"\n",
    "    # get values from previous function \n",
    "    identify = IQR_outliers(data, column)\n",
    "    Q1 = identify[1]\n",
    "    Q3 = identify[2]\n",
    "    IQR = identify[3]\n",
    "    # remove the outliers\n",
    "    df = data[~((data[column]<(Q1-1.5*IQR)) | (data[column]>(Q3+1.5*IQR)))]\n",
    "\n",
    "    return df"
   ]
  },
  {
   "cell_type": "code",
   "execution_count": 39,
   "metadata": {
    "id": "fvp7yhS4IJp_"
   },
   "outputs": [],
   "source": [
    "# Removing simultaneously\n",
    "for i in scores_columns:\n",
    "  df = IQR_remove_outliers(df, i)"
   ]
  },
  {
   "cell_type": "code",
   "execution_count": 40,
   "metadata": {
    "colab": {
     "base_uri": "https://localhost:8080/",
     "height": 282
    },
    "id": "C9wco38j6MzJ",
    "outputId": "9ca68b41-db64-453f-964c-b68c9800c7d5"
   },
   "outputs": [
    {
     "data": {
      "text/plain": [
       "<AxesSubplot:>"
      ]
     },
     "execution_count": 40,
     "metadata": {},
     "output_type": "execute_result"
    },
    {
     "data": {
      "image/png": "[encoded data removed]",
      "text/plain": [
       "<Figure size 640x480 with 1 Axes>"
      ]
     },
     "metadata": {},
     "output_type": "display_data"
    }
   ],
   "source": [
    "# confirm using a box plot\n",
    "df.boxplot(column=scores_columns)  "
   ]
  },
  {
   "cell_type": "markdown",
   "metadata": {
    "id": "zxse_NQx6MzP"
   },
   "source": [
    "As much as the above balances are categorised as outliers, its practically possible to have such balances since they are not that extreme.\n",
    "\n",
    "Do you think we should remove them?"
   ]
  },
  {
   "cell_type": "markdown",
   "metadata": {
    "id": "gbInc3656MzP"
   },
   "source": [
    "What happens when the data is normally distributed?\n",
    "\n",
    "In this scenario, we can determine the quartile from mean and median.\n",
    "\n",
    "```Q1 = mean - 0.675 * stdev```\n",
    "```Q3 = mean + 0.675 * stdev```\n",
    "\n",
    "```Upper Limit = Q3 + 1.5 * IQR = mean + 2.7 * stdev```\n",
    "```Lower Limit = Q1 - 1.5 * IQR = mean - 2.7 * stdev```\n",
    "\n",
    "Alternatively, we can use the Z-score, preferably when the data is normally distributed."
   ]
  },
  {
   "cell_type": "markdown",
   "metadata": {
    "id": "FSglRgSz6MzQ"
   },
   "source": [
    "### Final Data"
   ]
  },
  {
   "cell_type": "code",
   "execution_count": 41,
   "metadata": {
    "colab": {
     "base_uri": "https://localhost:8080/",
     "height": 206
    },
    "id": "ILUPeDab6MzQ",
    "outputId": "de6d2182-e2ca-4fe8-e215-61ec9dcd757d"
   },
   "outputs": [
    {
     "data": {
      "text/html": [
       "<div>\n",
       "<style scoped>\n",
       "    .dataframe tbody tr th:only-of-type {\n",
       "        vertical-align: middle;\n",
       "    }\n",
       "\n",
       "    .dataframe tbody tr th {\n",
       "        vertical-align: top;\n",
       "    }\n",
       "\n",
       "    .dataframe thead th {\n",
       "        text-align: right;\n",
       "    }\n",
       "</style>\n",
       "<table border=\"1\" class=\"dataframe\">\n",
       "  <thead>\n",
       "    <tr style=\"text-align: right;\">\n",
       "      <th></th>\n",
       "      <th>names</th>\n",
       "      <th>admission number</th>\n",
       "      <th>balance</th>\n",
       "      <th>english</th>\n",
       "      <th>kiswahili</th>\n",
       "      <th>mathematics</th>\n",
       "      <th>science</th>\n",
       "      <th>sst/cre</th>\n",
       "      <th>Creative Arts</th>\n",
       "      <th>music</th>\n",
       "    </tr>\n",
       "  </thead>\n",
       "  <tbody>\n",
       "    <tr>\n",
       "      <th>0</th>\n",
       "      <td>JERIEL NDEDA, OBURA</td>\n",
       "      <td>13259.0</td>\n",
       "      <td>0.0</td>\n",
       "      <td>81.0</td>\n",
       "      <td>39.0</td>\n",
       "      <td>50.0</td>\n",
       "      <td>30.0</td>\n",
       "      <td>59.0</td>\n",
       "      <td>99.0</td>\n",
       "      <td>80.0</td>\n",
       "    </tr>\n",
       "    <tr>\n",
       "      <th>1</th>\n",
       "      <td>MUKUHA TIMOTHY, KAMAU</td>\n",
       "      <td>13243.0</td>\n",
       "      <td>0.0</td>\n",
       "      <td>85.0</td>\n",
       "      <td>74.0</td>\n",
       "      <td>68.0</td>\n",
       "      <td>49.0</td>\n",
       "      <td>78.0</td>\n",
       "      <td>38.0</td>\n",
       "      <td>86.0</td>\n",
       "    </tr>\n",
       "    <tr>\n",
       "      <th>2</th>\n",
       "      <td>JOB, NGARA</td>\n",
       "      <td>13307.0</td>\n",
       "      <td>0.0</td>\n",
       "      <td>54.0</td>\n",
       "      <td>49.0</td>\n",
       "      <td>53.0</td>\n",
       "      <td>59.0</td>\n",
       "      <td>72.0</td>\n",
       "      <td>86.0</td>\n",
       "      <td>62.0</td>\n",
       "    </tr>\n",
       "    <tr>\n",
       "      <th>3</th>\n",
       "      <td>CHEGE DAVID, KAMAU</td>\n",
       "      <td>13258.0</td>\n",
       "      <td>0.0</td>\n",
       "      <td>71.0</td>\n",
       "      <td>97.0</td>\n",
       "      <td>92.0</td>\n",
       "      <td>41.0</td>\n",
       "      <td>81.0</td>\n",
       "      <td>77.0</td>\n",
       "      <td>80.0</td>\n",
       "    </tr>\n",
       "    <tr>\n",
       "      <th>4</th>\n",
       "      <td>RAMADHAN MUSA, TEPO</td>\n",
       "      <td>13363.0</td>\n",
       "      <td>0.0</td>\n",
       "      <td>40.0</td>\n",
       "      <td>84.0</td>\n",
       "      <td>74.0</td>\n",
       "      <td>82.0</td>\n",
       "      <td>89.0</td>\n",
       "      <td>64.0</td>\n",
       "      <td>46.0</td>\n",
       "    </tr>\n",
       "  </tbody>\n",
       "</table>\n",
       "</div>"
      ],
      "text/plain": [
       "                   names  admission number  balance  english  kiswahili  \\\n",
       "0    JERIEL NDEDA, OBURA           13259.0      0.0     81.0       39.0   \n",
       "1  MUKUHA TIMOTHY, KAMAU           13243.0      0.0     85.0       74.0   \n",
       "2             JOB, NGARA           13307.0      0.0     54.0       49.0   \n",
       "3     CHEGE DAVID, KAMAU           13258.0      0.0     71.0       97.0   \n",
       "4    RAMADHAN MUSA, TEPO           13363.0      0.0     40.0       84.0   \n",
       "\n",
       "   mathematics  science  sst/cre  Creative Arts  music  \n",
       "0         50.0     30.0     59.0           99.0   80.0  \n",
       "1         68.0     49.0     78.0           38.0   86.0  \n",
       "2         53.0     59.0     72.0           86.0   62.0  \n",
       "3         92.0     41.0     81.0           77.0   80.0  \n",
       "4         74.0     82.0     89.0           64.0   46.0  "
      ]
     },
     "execution_count": 41,
     "metadata": {},
     "output_type": "execute_result"
    }
   ],
   "source": [
    "# preview first 5 columns\n",
    "df.head()"
   ]
  },
  {
   "cell_type": "code",
   "execution_count": 42,
   "metadata": {
    "colab": {
     "base_uri": "https://localhost:8080/",
     "height": 206
    },
    "id": "Y32oEJI_6MzQ",
    "outputId": "f355b97b-4d51-4fdc-e395-db0d74fdd784"
   },
   "outputs": [
    {
     "data": {
      "text/html": [
       "<div>\n",
       "<style scoped>\n",
       "    .dataframe tbody tr th:only-of-type {\n",
       "        vertical-align: middle;\n",
       "    }\n",
       "\n",
       "    .dataframe tbody tr th {\n",
       "        vertical-align: top;\n",
       "    }\n",
       "\n",
       "    .dataframe thead th {\n",
       "        text-align: right;\n",
       "    }\n",
       "</style>\n",
       "<table border=\"1\" class=\"dataframe\">\n",
       "  <thead>\n",
       "    <tr style=\"text-align: right;\">\n",
       "      <th></th>\n",
       "      <th>names</th>\n",
       "      <th>admission number</th>\n",
       "      <th>balance</th>\n",
       "      <th>english</th>\n",
       "      <th>kiswahili</th>\n",
       "      <th>mathematics</th>\n",
       "      <th>science</th>\n",
       "      <th>sst/cre</th>\n",
       "      <th>Creative Arts</th>\n",
       "      <th>music</th>\n",
       "    </tr>\n",
       "  </thead>\n",
       "  <tbody>\n",
       "    <tr>\n",
       "      <th>115</th>\n",
       "      <td>Bin Amin, Ng'eno</td>\n",
       "      <td>13159.0</td>\n",
       "      <td>0.0</td>\n",
       "      <td>58.000000</td>\n",
       "      <td>74.764706</td>\n",
       "      <td>72.938462</td>\n",
       "      <td>68.179487</td>\n",
       "      <td>70.833333</td>\n",
       "      <td>51.0</td>\n",
       "      <td>44.0</td>\n",
       "    </tr>\n",
       "    <tr>\n",
       "      <th>116</th>\n",
       "      <td>Catherine Ndung'u, Kate</td>\n",
       "      <td>13187.0</td>\n",
       "      <td>0.0</td>\n",
       "      <td>84.000000</td>\n",
       "      <td>74.764706</td>\n",
       "      <td>68.000000</td>\n",
       "      <td>68.179487</td>\n",
       "      <td>48.000000</td>\n",
       "      <td>91.0</td>\n",
       "      <td>64.0</td>\n",
       "    </tr>\n",
       "    <tr>\n",
       "      <th>117</th>\n",
       "      <td>Daisy Machoka, Daniel</td>\n",
       "      <td>13168.0</td>\n",
       "      <td>18161.0</td>\n",
       "      <td>70.958678</td>\n",
       "      <td>74.764706</td>\n",
       "      <td>72.938462</td>\n",
       "      <td>68.179487</td>\n",
       "      <td>70.833333</td>\n",
       "      <td>78.0</td>\n",
       "      <td>86.0</td>\n",
       "    </tr>\n",
       "    <tr>\n",
       "      <th>118</th>\n",
       "      <td>Daniel Karanja, Wambui</td>\n",
       "      <td>13133.0</td>\n",
       "      <td>33619.0</td>\n",
       "      <td>78.000000</td>\n",
       "      <td>74.764706</td>\n",
       "      <td>78.000000</td>\n",
       "      <td>68.179487</td>\n",
       "      <td>29.000000</td>\n",
       "      <td>80.0</td>\n",
       "      <td>84.0</td>\n",
       "    </tr>\n",
       "    <tr>\n",
       "      <th>144</th>\n",
       "      <td>JOB, KAMAU</td>\n",
       "      <td>1430232.0</td>\n",
       "      <td>43200.0</td>\n",
       "      <td>98.000000</td>\n",
       "      <td>80.000000</td>\n",
       "      <td>86.000000</td>\n",
       "      <td>64.000000</td>\n",
       "      <td>99.000000</td>\n",
       "      <td>49.0</td>\n",
       "      <td>69.0</td>\n",
       "    </tr>\n",
       "  </tbody>\n",
       "</table>\n",
       "</div>"
      ],
      "text/plain": [
       "                       names  admission number  balance    english  kiswahili  \\\n",
       "115         Bin Amin, Ng'eno           13159.0      0.0  58.000000  74.764706   \n",
       "116  Catherine Ndung'u, Kate           13187.0      0.0  84.000000  74.764706   \n",
       "117    Daisy Machoka, Daniel           13168.0  18161.0  70.958678  74.764706   \n",
       "118   Daniel Karanja, Wambui           13133.0  33619.0  78.000000  74.764706   \n",
       "144               JOB, KAMAU         1430232.0  43200.0  98.000000  80.000000   \n",
       "\n",
       "     mathematics    science    sst/cre  Creative Arts  music  \n",
       "115    72.938462  68.179487  70.833333           51.0   44.0  \n",
       "116    68.000000  68.179487  48.000000           91.0   64.0  \n",
       "117    72.938462  68.179487  70.833333           78.0   86.0  \n",
       "118    78.000000  68.179487  29.000000           80.0   84.0  \n",
       "144    86.000000  64.000000  99.000000           49.0   69.0  "
      ]
     },
     "execution_count": 42,
     "metadata": {},
     "output_type": "execute_result"
    }
   ],
   "source": [
    "# preview last 5 columns\n",
    "df.tail()"
   ]
  },
  {
   "cell_type": "markdown",
   "metadata": {
    "id": "lpTxvVidJKzY"
   },
   "source": [
    "## Data analysis in Pandas"
   ]
  },
  {
   "cell_type": "markdown",
   "metadata": {
    "id": "27lBf9A6OzdM"
   },
   "source": [
    "### Univariate analysis"
   ]
  },
  {
   "cell_type": "code",
   "execution_count": 43,
   "metadata": {
    "id": "QhDhAMQUOrvl"
   },
   "outputs": [],
   "source": [
    "# For categorical variables\n",
    "\n",
    "# 1. Get frequency tables and plot value counts: choose appropriate visualizations eg barplots or pie charts\n",
    "# 2. State observations or summarize findings"
   ]
  },
  {
   "cell_type": "code",
   "execution_count": 47,
   "metadata": {
    "id": "sF_9ODMbQwVT"
   },
   "outputs": [],
   "source": [
    "# For numerical variables\n",
    "\n",
    "# 1. Calculate measures of central tendency, dispersion and other statistics such as skewness and kurtosis.\n",
    "# 2. Interpret the results/numbers you get.\n",
    "# 3. Plot distribution\n",
    "\n",
    "# Perform normality tests if you want to work on modelling(Helps inform the choice of algorithm)"
   ]
  },
  {
   "cell_type": "markdown",
   "metadata": {
    "id": "VgFBcQlAM2Tc"
   },
   "source": [
    "![#f03c15](https://placehold.co/15x15/f03c15/f03c15.png) `Do univariate analysis on the students data. How did the students perform in different subjects?`"
   ]
  },
  {
   "cell_type": "code",
   "execution_count": 123,
   "metadata": {},
   "outputs": [
    {
     "data": {
      "text/plain": [
       "['english',\n",
       " 'kiswahili',\n",
       " 'mathematics',\n",
       " 'science',\n",
       " 'sst/cre',\n",
       " 'Creative Arts',\n",
       " 'music']"
      ]
     },
     "execution_count": 123,
     "metadata": {},
     "output_type": "execute_result"
    }
   ],
   "source": [
    "\n",
    "scores_columns"
   ]
  },
  {
   "cell_type": "code",
   "execution_count": 51,
   "metadata": {},
   "outputs": [
    {
     "data": {
      "text/plain": [
       "english     kiswahili  mathematics  science    sst/cre   \n",
       "70.958678   74.764706  72.938462    68.179487  70.833333     2\n",
       "34.000000   90.000000  81.000000    86.000000  51.000000     1\n",
       "76.000000   75.000000  74.000000    71.000000  70.000000     1\n",
       "81.000000   39.000000  50.000000    30.000000  59.000000     1\n",
       "80.000000   97.000000  84.000000    97.000000  49.000000     1\n",
       "                                                            ..\n",
       "58.000000   66.000000  88.000000    72.000000  88.000000     1\n",
       "            65.000000  74.000000    54.000000  58.000000     1\n",
       "            61.000000  42.000000    51.000000  88.000000     1\n",
       "57.000000   66.000000  72.000000    33.000000  76.000000     1\n",
       "100.000000  62.000000  97.000000    95.000000  100.000000    1\n",
       "Length: 107, dtype: int64"
      ]
     },
     "execution_count": 51,
     "metadata": {},
     "output_type": "execute_result"
    }
   ],
   "source": [
    "#getting the frequency tables\n",
    "df[columns].value_counts()"
   ]
  },
  {
   "cell_type": "code",
   "execution_count": 91,
   "metadata": {},
   "outputs": [
    {
     "data": {
      "image/png": "[encoded data removed]",
      "text/plain": [
       "<Figure size 640x480 with 1 Axes>"
      ]
     },
     "metadata": {},
     "output_type": "display_data"
    }
   ],
   "source": [
    "df[columns].median().plot.bar();\n"
   ]
  },
  {
   "cell_type": "code",
   "execution_count": 90,
   "metadata": {},
   "outputs": [
    {
     "data": {
      "image/png": "[encoded data removed]",
      "text/plain": [
       "<Figure size 640x480 with 1 Axes>"
      ]
     },
     "metadata": {},
     "output_type": "display_data"
    }
   ],
   "source": [
    "import matplotlib.pyplot as plt\n",
    "%matplotlib inline\n",
    "df[columns].mean().plot.bar();\n"
   ]
  },
  {
   "cell_type": "code",
   "execution_count": null,
   "metadata": {},
   "outputs": [],
   "source": [
    "df[column]"
   ]
  },
  {
   "cell_type": "code",
   "execution_count": 53,
   "metadata": {},
   "outputs": [
    {
     "name": "stdout",
     "output_type": "stream",
     "text": [
      "Mean: english        68.452556\n",
      "kiswahili      66.986928\n",
      "mathematics    70.868661\n",
      "science        63.872745\n",
      "sst/cre        70.726852\n",
      "dtype: float64\n"
     ]
    }
   ],
   "source": [
    "#Mean\n",
    "print('Mean:',df[columns].mean())"
   ]
  },
  {
   "cell_type": "code",
   "execution_count": 54,
   "metadata": {},
   "outputs": [
    {
     "name": "stdout",
     "output_type": "stream",
     "text": [
      "Median: english        70.979339\n",
      "kiswahili      69.000000\n",
      "mathematics    71.000000\n",
      "science        67.500000\n",
      "sst/cre        71.416667\n",
      "dtype: float64\n"
     ]
    }
   ],
   "source": [
    "#Median\n",
    "print('Median:',df[columns].median())"
   ]
  },
  {
   "cell_type": "code",
   "execution_count": 227,
   "metadata": {},
   "outputs": [
    {
     "data": {
      "image/png": "[encoded data removed]",
      "text/plain": [
       "<Figure size 1600x1000 with 6 Axes>"
      ]
     },
     "metadata": {},
     "output_type": "display_data"
    }
   ],
   "source": [
    "import matplotlib.pyplot as plt\n",
    "%matplotlib inline\n",
    "df[columns].hist(figsize=(16,10));\n"
   ]
  },
  {
   "cell_type": "markdown",
   "metadata": {},
   "source": [
    "#Observations\n",
    "1. The highest median grade was 71.4% for sst/cre subject. \n",
    "2. The mean grade for mathematics was the highest at 70.86% followed by sst/cre which had a mean grade of 70.72%. Moreover, science had the lowest mean grade at approximately 64%.\n",
    "3. The distribution curve of mathematics was approximating that of a normal curve.\n",
    "\n",
    "#challenges experienced\n",
    "1. The y-axis scale is non-uniform in limits and intervals."
   ]
  },
  {
   "cell_type": "markdown",
   "metadata": {
    "id": "yyUXRNDXS2V8"
   },
   "source": [
    "### Bivariate analysis"
   ]
  },
  {
   "cell_type": "code",
   "execution_count": 56,
   "metadata": {
    "id": "UFuSHcpaQ5gf"
   },
   "outputs": [],
   "source": [
    "# When both variables are categorical\n",
    "\n",
    "# 1. Plot grouped-by value counts.\n",
    "# 2. State observations or summarize findings"
   ]
  },
  {
   "cell_type": "code",
   "execution_count": 124,
   "metadata": {},
   "outputs": [
    {
     "data": {
      "text/plain": [
       "['english',\n",
       " 'kiswahili',\n",
       " 'mathematics',\n",
       " 'science',\n",
       " 'sst/cre',\n",
       " 'Creative Arts',\n",
       " 'music']"
      ]
     },
     "execution_count": 124,
     "metadata": {},
     "output_type": "execute_result"
    }
   ],
   "source": [
    "scores_columns"
   ]
  },
  {
   "cell_type": "code",
   "execution_count": 193,
   "metadata": {},
   "outputs": [
    {
     "data": {
      "text/plain": [
       "<AxesSubplot:xlabel='english'>"
      ]
     },
     "execution_count": 193,
     "metadata": {},
     "output_type": "execute_result"
    },
    {
     "data": {
      "image/png": "[encoded data removed]",
      "text/plain": [
       "<Figure size 1000x600 with 1 Axes>"
      ]
     },
     "metadata": {},
     "output_type": "display_data"
    }
   ],
   "source": [
    "biv_analysis = df.groupby('english')['mathematics'].mean().head(20)\n",
    "biv_analysis.plot.bar(figsize=(10,6))"
   ]
  },
  {
   "cell_type": "code",
   "execution_count": 195,
   "metadata": {},
   "outputs": [
    {
     "data": {
      "text/plain": [
       "<AxesSubplot:xlabel='english'>"
      ]
     },
     "execution_count": 195,
     "metadata": {},
     "output_type": "execute_result"
    },
    {
     "data": {
      "image/png": "[encoded data removed]",
      "text/plain": [
       "<Figure size 1000x600 with 1 Axes>"
      ]
     },
     "metadata": {},
     "output_type": "display_data"
    }
   ],
   "source": [
    "biv_analysis = df.groupby('english')['kiswahili'].mean().head(20)\n",
    "biv_analysis.plot.bar(figsize=(10,6))"
   ]
  },
  {
   "cell_type": "code",
   "execution_count": 198,
   "metadata": {},
   "outputs": [
    {
     "data": {
      "text/plain": [
       "<AxesSubplot:xlabel='mathematics'>"
      ]
     },
     "execution_count": 198,
     "metadata": {},
     "output_type": "execute_result"
    },
    {
     "data": {
      "image/png": "[encoded data removed]",
      "text/plain": [
       "<Figure size 1000x600 with 1 Axes>"
      ]
     },
     "metadata": {},
     "output_type": "display_data"
    }
   ],
   "source": [
    "biv_analysis = df.groupby('mathematics')['music'].mean().head(20)\n",
    "biv_analysis.plot.bar(figsize=(10,6))"
   ]
  },
  {
   "cell_type": "code",
   "execution_count": 171,
   "metadata": {},
   "outputs": [
    {
     "data": {
      "text/plain": [
       "<AxesSubplot:xlabel='mathematics', ylabel='english'>"
      ]
     },
     "execution_count": 171,
     "metadata": {},
     "output_type": "execute_result"
    },
    {
     "data": {
      "image/png": "[encoded data removed]",
      "text/plain": [
       "<Figure size 640x480 with 1 Axes>"
      ]
     },
     "metadata": {},
     "output_type": "display_data"
    }
   ],
   "source": [
    "df.plot.scatter(x='mathematics',y ='english' )"
   ]
  },
  {
   "cell_type": "code",
   "execution_count": 199,
   "metadata": {},
   "outputs": [
    {
     "data": {
      "text/plain": [
       "<AxesSubplot:xlabel='mathematics', ylabel='kiswahili'>"
      ]
     },
     "execution_count": 199,
     "metadata": {},
     "output_type": "execute_result"
    },
    {
     "data": {
      "image/png": "[encoded data removed]",
      "text/plain": [
       "<Figure size 640x480 with 1 Axes>"
      ]
     },
     "metadata": {},
     "output_type": "display_data"
    }
   ],
   "source": [
    "df.plot.scatter(x='mathematics',y ='kiswahili' )"
   ]
  },
  {
   "cell_type": "code",
   "execution_count": 184,
   "metadata": {},
   "outputs": [
    {
     "data": {
      "text/plain": [
       "['english',\n",
       " 'kiswahili',\n",
       " 'mathematics',\n",
       " 'science',\n",
       " 'sst/cre',\n",
       " 'Creative Arts',\n",
       " 'music']"
      ]
     },
     "execution_count": 184,
     "metadata": {},
     "output_type": "execute_result"
    }
   ],
   "source": [
    "scores_columns"
   ]
  },
  {
   "cell_type": "code",
   "execution_count": 192,
   "metadata": {},
   "outputs": [
    {
     "data": {
      "text/html": [
       "<div>\n",
       "<style scoped>\n",
       "    .dataframe tbody tr th:only-of-type {\n",
       "        vertical-align: middle;\n",
       "    }\n",
       "\n",
       "    .dataframe tbody tr th {\n",
       "        vertical-align: top;\n",
       "    }\n",
       "\n",
       "    .dataframe thead th {\n",
       "        text-align: right;\n",
       "    }\n",
       "</style>\n",
       "<table border=\"1\" class=\"dataframe\">\n",
       "  <thead>\n",
       "    <tr style=\"text-align: right;\">\n",
       "      <th></th>\n",
       "      <th>admission number</th>\n",
       "      <th>balance</th>\n",
       "      <th>english</th>\n",
       "      <th>kiswahili</th>\n",
       "      <th>mathematics</th>\n",
       "      <th>science</th>\n",
       "      <th>sst/cre</th>\n",
       "      <th>Creative Arts</th>\n",
       "      <th>music</th>\n",
       "      <th>Total</th>\n",
       "    </tr>\n",
       "  </thead>\n",
       "  <tbody>\n",
       "    <tr>\n",
       "      <th>admission number</th>\n",
       "      <td>1.000000</td>\n",
       "      <td>0.207683</td>\n",
       "      <td>0.162629</td>\n",
       "      <td>0.065304</td>\n",
       "      <td>0.086297</td>\n",
       "      <td>0.000679</td>\n",
       "      <td>0.148190</td>\n",
       "      <td>-0.118025</td>\n",
       "      <td>0.004713</td>\n",
       "      <td>0.131505</td>\n",
       "    </tr>\n",
       "    <tr>\n",
       "      <th>balance</th>\n",
       "      <td>0.207683</td>\n",
       "      <td>1.000000</td>\n",
       "      <td>0.007399</td>\n",
       "      <td>0.169848</td>\n",
       "      <td>-0.020621</td>\n",
       "      <td>0.260868</td>\n",
       "      <td>-0.089786</td>\n",
       "      <td>0.106513</td>\n",
       "      <td>-0.088402</td>\n",
       "      <td>0.145069</td>\n",
       "    </tr>\n",
       "    <tr>\n",
       "      <th>english</th>\n",
       "      <td>0.162629</td>\n",
       "      <td>0.007399</td>\n",
       "      <td>1.000000</td>\n",
       "      <td>-0.198929</td>\n",
       "      <td>0.104753</td>\n",
       "      <td>0.054209</td>\n",
       "      <td>-0.033422</td>\n",
       "      <td>0.059230</td>\n",
       "      <td>0.067530</td>\n",
       "      <td>0.381150</td>\n",
       "    </tr>\n",
       "    <tr>\n",
       "      <th>kiswahili</th>\n",
       "      <td>0.065304</td>\n",
       "      <td>0.169848</td>\n",
       "      <td>-0.198929</td>\n",
       "      <td>1.000000</td>\n",
       "      <td>-0.069652</td>\n",
       "      <td>0.027368</td>\n",
       "      <td>0.005198</td>\n",
       "      <td>-0.152861</td>\n",
       "      <td>0.030342</td>\n",
       "      <td>0.273002</td>\n",
       "    </tr>\n",
       "    <tr>\n",
       "      <th>mathematics</th>\n",
       "      <td>0.086297</td>\n",
       "      <td>-0.020621</td>\n",
       "      <td>0.104753</td>\n",
       "      <td>-0.069652</td>\n",
       "      <td>1.000000</td>\n",
       "      <td>0.141385</td>\n",
       "      <td>0.043226</td>\n",
       "      <td>0.189529</td>\n",
       "      <td>-0.066848</td>\n",
       "      <td>0.487521</td>\n",
       "    </tr>\n",
       "    <tr>\n",
       "      <th>science</th>\n",
       "      <td>0.000679</td>\n",
       "      <td>0.260868</td>\n",
       "      <td>0.054209</td>\n",
       "      <td>0.027368</td>\n",
       "      <td>0.141385</td>\n",
       "      <td>1.000000</td>\n",
       "      <td>-0.088269</td>\n",
       "      <td>0.056528</td>\n",
       "      <td>-0.149183</td>\n",
       "      <td>0.427200</td>\n",
       "    </tr>\n",
       "    <tr>\n",
       "      <th>sst/cre</th>\n",
       "      <td>0.148190</td>\n",
       "      <td>-0.089786</td>\n",
       "      <td>-0.033422</td>\n",
       "      <td>0.005198</td>\n",
       "      <td>0.043226</td>\n",
       "      <td>-0.088269</td>\n",
       "      <td>1.000000</td>\n",
       "      <td>-0.051182</td>\n",
       "      <td>0.123279</td>\n",
       "      <td>0.380743</td>\n",
       "    </tr>\n",
       "    <tr>\n",
       "      <th>Creative Arts</th>\n",
       "      <td>-0.118025</td>\n",
       "      <td>0.106513</td>\n",
       "      <td>0.059230</td>\n",
       "      <td>-0.152861</td>\n",
       "      <td>0.189529</td>\n",
       "      <td>0.056528</td>\n",
       "      <td>-0.051182</td>\n",
       "      <td>1.000000</td>\n",
       "      <td>-0.127826</td>\n",
       "      <td>0.361731</td>\n",
       "    </tr>\n",
       "    <tr>\n",
       "      <th>music</th>\n",
       "      <td>0.004713</td>\n",
       "      <td>-0.088402</td>\n",
       "      <td>0.067530</td>\n",
       "      <td>0.030342</td>\n",
       "      <td>-0.066848</td>\n",
       "      <td>-0.149183</td>\n",
       "      <td>0.123279</td>\n",
       "      <td>-0.127826</td>\n",
       "      <td>1.000000</td>\n",
       "      <td>0.317232</td>\n",
       "    </tr>\n",
       "    <tr>\n",
       "      <th>Total</th>\n",
       "      <td>0.131505</td>\n",
       "      <td>0.145069</td>\n",
       "      <td>0.381150</td>\n",
       "      <td>0.273002</td>\n",
       "      <td>0.487521</td>\n",
       "      <td>0.427200</td>\n",
       "      <td>0.380743</td>\n",
       "      <td>0.361731</td>\n",
       "      <td>0.317232</td>\n",
       "      <td>1.000000</td>\n",
       "    </tr>\n",
       "  </tbody>\n",
       "</table>\n",
       "</div>"
      ],
      "text/plain": [
       "                  admission number   balance   english  kiswahili  \\\n",
       "admission number          1.000000  0.207683  0.162629   0.065304   \n",
       "balance                   0.207683  1.000000  0.007399   0.169848   \n",
       "english                   0.162629  0.007399  1.000000  -0.198929   \n",
       "kiswahili                 0.065304  0.169848 -0.198929   1.000000   \n",
       "mathematics               0.086297 -0.020621  0.104753  -0.069652   \n",
       "science                   0.000679  0.260868  0.054209   0.027368   \n",
       "sst/cre                   0.148190 -0.089786 -0.033422   0.005198   \n",
       "Creative Arts            -0.118025  0.106513  0.059230  -0.152861   \n",
       "music                     0.004713 -0.088402  0.067530   0.030342   \n",
       "Total                     0.131505  0.145069  0.381150   0.273002   \n",
       "\n",
       "                  mathematics   science   sst/cre  Creative Arts     music  \\\n",
       "admission number     0.086297  0.000679  0.148190      -0.118025  0.004713   \n",
       "balance             -0.020621  0.260868 -0.089786       0.106513 -0.088402   \n",
       "english              0.104753  0.054209 -0.033422       0.059230  0.067530   \n",
       "kiswahili           -0.069652  0.027368  0.005198      -0.152861  0.030342   \n",
       "mathematics          1.000000  0.141385  0.043226       0.189529 -0.066848   \n",
       "science              0.141385  1.000000 -0.088269       0.056528 -0.149183   \n",
       "sst/cre              0.043226 -0.088269  1.000000      -0.051182  0.123279   \n",
       "Creative Arts        0.189529  0.056528 -0.051182       1.000000 -0.127826   \n",
       "music               -0.066848 -0.149183  0.123279      -0.127826  1.000000   \n",
       "Total                0.487521  0.427200  0.380743       0.361731  0.317232   \n",
       "\n",
       "                     Total  \n",
       "admission number  0.131505  \n",
       "balance           0.145069  \n",
       "english           0.381150  \n",
       "kiswahili         0.273002  \n",
       "mathematics       0.487521  \n",
       "science           0.427200  \n",
       "sst/cre           0.380743  \n",
       "Creative Arts     0.361731  \n",
       "music             0.317232  \n",
       "Total             1.000000  "
      ]
     },
     "execution_count": 192,
     "metadata": {},
     "output_type": "execute_result"
    }
   ],
   "source": [
    "df.corr()\n"
   ]
  },
  {
   "cell_type": "code",
   "execution_count": 58,
   "metadata": {
    "id": "HEDPwrhEUfSP"
   },
   "outputs": [],
   "source": [
    "# When variables are categorical and numerical\n",
    "\n",
    "# 1. Plot box-plots or bar plots of each category.\n",
    "# 2. State observations or summarize findings"
   ]
  },
  {
   "cell_type": "code",
   "execution_count": 60,
   "metadata": {
    "id": "qph--ijGUzFS"
   },
   "outputs": [],
   "source": [
    "# When both variables are numerical\n",
    "\n",
    "# 1. Plot scatterplots and calculate correlation.\n",
    "# 2. State observatidata[col].replace(to_replace, value, inplace=True, regex=regex_value)ons or summarize findings"
   ]
  },
  {
   "cell_type": "markdown",
   "metadata": {
    "id": "HjGVk1Facm25"
   },
   "source": [
    "![#f03c15](https://placehold.co/15x15/f03c15/f03c15.png) `Do bivariate analysis on the students data. Come up with your own analysis questions.`"
   ]
  },
  {
   "cell_type": "markdown",
   "metadata": {},
   "source": [
    "#Observations\n",
    "1. From the bar plots and scatter plots we observed no correlation between the subjects that were plotted.\n",
    "2. Referring to the correlation table, there were minimal positive correlations between subjects such as kiswahili and science of 0.027 and negative correlations between subjects such as mathematics and music of 0.066.\n",
    "\n",
    "\n",
    "\n",
    "#Challenges experienced\n",
    "1. We were not able to plot a heatmap to show the correlation of the different subjects.\n"
   ]
  },
  {
   "cell_type": "markdown",
   "metadata": {
    "id": "XxR1x-9sdKBn"
   },
   "source": [
    "## Special functions for analysis in pandas or otherwise"
   ]
  },
  {
   "cell_type": "markdown",
   "metadata": {
    "id": "FIlc2kWT6MzQ"
   },
   "source": [
    "## Using Lambda functions\n",
    "\n",
    "What is a lambda function?\n",
    "\n",
    "Refers to an anonymous function (ie a function definition that is not bound to an identifier unless assigned one) intended as a shorthand function. \n",
    "\n",
    "They come in handy since one doesn't have to write multiple lines of code defining a function, and they are written inline."
   ]
  },
  {
   "cell_type": "markdown",
   "metadata": {
    "id": "fr8FPLZJ6MzR"
   },
   "source": [
    "### using ```.apply()```"
   ]
  },
  {
   "cell_type": "code",
   "execution_count": 63,
   "metadata": {
    "colab": {
     "base_uri": "https://localhost:8080/",
     "height": 206
    },
    "id": "6x24_6I06MzR",
    "outputId": "bc72eb40-ef77-45ca-d240-48cd96c35404"
   },
   "outputs": [
    {
     "data": {
      "text/html": [
       "<div>\n",
       "<style scoped>\n",
       "    .dataframe tbody tr th:only-of-type {\n",
       "        vertical-align: middle;\n",
       "    }\n",
       "\n",
       "    .dataframe tbody tr th {\n",
       "        vertical-align: top;\n",
       "    }\n",
       "\n",
       "    .dataframe thead th {\n",
       "        text-align: right;\n",
       "    }\n",
       "</style>\n",
       "<table border=\"1\" class=\"dataframe\">\n",
       "  <thead>\n",
       "    <tr style=\"text-align: right;\">\n",
       "      <th></th>\n",
       "      <th>names</th>\n",
       "      <th>admission number</th>\n",
       "      <th>balance</th>\n",
       "      <th>english</th>\n",
       "      <th>kiswahili</th>\n",
       "      <th>mathematics</th>\n",
       "      <th>science</th>\n",
       "      <th>sst/cre</th>\n",
       "      <th>Creative Arts</th>\n",
       "      <th>music</th>\n",
       "    </tr>\n",
       "  </thead>\n",
       "  <tbody>\n",
       "    <tr>\n",
       "      <th>115</th>\n",
       "      <td>Bin Amin, Ng'eno</td>\n",
       "      <td>13159.0</td>\n",
       "      <td>0.0</td>\n",
       "      <td>58.0</td>\n",
       "      <td>74.0</td>\n",
       "      <td>72.0</td>\n",
       "      <td>68.0</td>\n",
       "      <td>70.0</td>\n",
       "      <td>51.0</td>\n",
       "      <td>44.0</td>\n",
       "    </tr>\n",
       "    <tr>\n",
       "      <th>116</th>\n",
       "      <td>Catherine Ndung'u, Kate</td>\n",
       "      <td>13187.0</td>\n",
       "      <td>0.0</td>\n",
       "      <td>84.0</td>\n",
       "      <td>74.0</td>\n",
       "      <td>68.0</td>\n",
       "      <td>68.0</td>\n",
       "      <td>48.0</td>\n",
       "      <td>91.0</td>\n",
       "      <td>64.0</td>\n",
       "    </tr>\n",
       "    <tr>\n",
       "      <th>117</th>\n",
       "      <td>Daisy Machoka, Daniel</td>\n",
       "      <td>13168.0</td>\n",
       "      <td>18161.0</td>\n",
       "      <td>70.0</td>\n",
       "      <td>74.0</td>\n",
       "      <td>72.0</td>\n",
       "      <td>68.0</td>\n",
       "      <td>70.0</td>\n",
       "      <td>78.0</td>\n",
       "      <td>86.0</td>\n",
       "    </tr>\n",
       "    <tr>\n",
       "      <th>118</th>\n",
       "      <td>Daniel Karanja, Wambui</td>\n",
       "      <td>13133.0</td>\n",
       "      <td>33619.0</td>\n",
       "      <td>78.0</td>\n",
       "      <td>74.0</td>\n",
       "      <td>78.0</td>\n",
       "      <td>68.0</td>\n",
       "      <td>29.0</td>\n",
       "      <td>80.0</td>\n",
       "      <td>84.0</td>\n",
       "    </tr>\n",
       "    <tr>\n",
       "      <th>144</th>\n",
       "      <td>JOB, KAMAU</td>\n",
       "      <td>1430232.0</td>\n",
       "      <td>43200.0</td>\n",
       "      <td>98.0</td>\n",
       "      <td>80.0</td>\n",
       "      <td>86.0</td>\n",
       "      <td>64.0</td>\n",
       "      <td>99.0</td>\n",
       "      <td>49.0</td>\n",
       "      <td>69.0</td>\n",
       "    </tr>\n",
       "  </tbody>\n",
       "</table>\n",
       "</div>"
      ],
      "text/plain": [
       "                       names  admission number  balance  english  kiswahili  \\\n",
       "115         Bin Amin, Ng'eno           13159.0      0.0     58.0       74.0   \n",
       "116  Catherine Ndung'u, Kate           13187.0      0.0     84.0       74.0   \n",
       "117    Daisy Machoka, Daniel           13168.0  18161.0     70.0       74.0   \n",
       "118   Daniel Karanja, Wambui           13133.0  33619.0     78.0       74.0   \n",
       "144               JOB, KAMAU         1430232.0  43200.0     98.0       80.0   \n",
       "\n",
       "     mathematics  science  sst/cre  Creative Arts  music  \n",
       "115         72.0     68.0     70.0           51.0   44.0  \n",
       "116         68.0     68.0     48.0           91.0   64.0  \n",
       "117         72.0     68.0     70.0           78.0   86.0  \n",
       "118         78.0     68.0     29.0           80.0   84.0  \n",
       "144         86.0     64.0     99.0           49.0   69.0  "
      ]
     },
     "execution_count": 63,
     "metadata": {},
     "output_type": "execute_result"
    }
   ],
   "source": [
    "# using lamda function to remove the decimals in the scores that resulted from replacing with mean\n",
    "deci_columns = [\"english\", \"kiswahili\", \"mathematics\",\"science\", \"sst/cre\"]\n",
    "\n",
    "for col in deci_columns:\n",
    "    df[col] = df[col].apply(lambda x: np.trunc(x))\n",
    "\n",
    "# preview the data\n",
    "df.tail()"
   ]
  },
  {
   "cell_type": "code",
   "execution_count": 64,
   "metadata": {
    "colab": {
     "base_uri": "https://localhost:8080/"
    },
    "id": "iKA2_KTteIgd",
    "outputId": "5b26d3db-d120-4bf4-eb05-4021e410f786"
   },
   "outputs": [
    {
     "data": {
      "text/plain": [
       "names                object\n",
       "admission number    float64\n",
       "balance             float64\n",
       "english             float64\n",
       "kiswahili           float64\n",
       "mathematics         float64\n",
       "science             float64\n",
       "sst/cre             float64\n",
       "Creative Arts       float64\n",
       "music               float64\n",
       "dtype: object"
      ]
     },
     "execution_count": 64,
     "metadata": {},
     "output_type": "execute_result"
    }
   ],
   "source": [
    "df.dtypes"
   ]
  },
  {
   "cell_type": "markdown",
   "metadata": {
    "id": "ta0NxNai6MzR"
   },
   "source": [
    "### using ```.assign()```"
   ]
  },
  {
   "cell_type": "code",
   "execution_count": 65,
   "metadata": {
    "id": "OwJ_lYJ46MzS"
   },
   "outputs": [],
   "source": [
    "# lets find the students total\n",
    "df = df.assign(Total = lambda x: x[\"english\"] + x[\"kiswahili\"] + x[\"mathematics\"] + x[\"science\"] + x[\"sst/cre\"] + x[\"Creative Arts\"] + x[\"music\"])"
   ]
  },
  {
   "cell_type": "code",
   "execution_count": 66,
   "metadata": {
    "colab": {
     "base_uri": "https://localhost:8080/",
     "height": 206
    },
    "id": "3sgsxEg66MzS",
    "outputId": "8a1f2ea6-11d1-4370-f575-b17d85e5a059"
   },
   "outputs": [
    {
     "data": {
      "text/html": [
       "<div>\n",
       "<style scoped>\n",
       "    .dataframe tbody tr th:only-of-type {\n",
       "        vertical-align: middle;\n",
       "    }\n",
       "\n",
       "    .dataframe tbody tr th {\n",
       "        vertical-align: top;\n",
       "    }\n",
       "\n",
       "    .dataframe thead th {\n",
       "        text-align: right;\n",
       "    }\n",
       "</style>\n",
       "<table border=\"1\" class=\"dataframe\">\n",
       "  <thead>\n",
       "    <tr style=\"text-align: right;\">\n",
       "      <th></th>\n",
       "      <th>names</th>\n",
       "      <th>admission number</th>\n",
       "      <th>balance</th>\n",
       "      <th>english</th>\n",
       "      <th>kiswahili</th>\n",
       "      <th>mathematics</th>\n",
       "      <th>science</th>\n",
       "      <th>sst/cre</th>\n",
       "      <th>Creative Arts</th>\n",
       "      <th>music</th>\n",
       "      <th>Total</th>\n",
       "    </tr>\n",
       "  </thead>\n",
       "  <tbody>\n",
       "    <tr>\n",
       "      <th>0</th>\n",
       "      <td>JERIEL NDEDA, OBURA</td>\n",
       "      <td>13259.0</td>\n",
       "      <td>0.0</td>\n",
       "      <td>81.0</td>\n",
       "      <td>39.0</td>\n",
       "      <td>50.0</td>\n",
       "      <td>30.0</td>\n",
       "      <td>59.0</td>\n",
       "      <td>99.0</td>\n",
       "      <td>80.0</td>\n",
       "      <td>438.0</td>\n",
       "    </tr>\n",
       "    <tr>\n",
       "      <th>1</th>\n",
       "      <td>MUKUHA TIMOTHY, KAMAU</td>\n",
       "      <td>13243.0</td>\n",
       "      <td>0.0</td>\n",
       "      <td>85.0</td>\n",
       "      <td>74.0</td>\n",
       "      <td>68.0</td>\n",
       "      <td>49.0</td>\n",
       "      <td>78.0</td>\n",
       "      <td>38.0</td>\n",
       "      <td>86.0</td>\n",
       "      <td>478.0</td>\n",
       "    </tr>\n",
       "    <tr>\n",
       "      <th>2</th>\n",
       "      <td>JOB, NGARA</td>\n",
       "      <td>13307.0</td>\n",
       "      <td>0.0</td>\n",
       "      <td>54.0</td>\n",
       "      <td>49.0</td>\n",
       "      <td>53.0</td>\n",
       "      <td>59.0</td>\n",
       "      <td>72.0</td>\n",
       "      <td>86.0</td>\n",
       "      <td>62.0</td>\n",
       "      <td>435.0</td>\n",
       "    </tr>\n",
       "    <tr>\n",
       "      <th>3</th>\n",
       "      <td>CHEGE DAVID, KAMAU</td>\n",
       "      <td>13258.0</td>\n",
       "      <td>0.0</td>\n",
       "      <td>71.0</td>\n",
       "      <td>97.0</td>\n",
       "      <td>92.0</td>\n",
       "      <td>41.0</td>\n",
       "      <td>81.0</td>\n",
       "      <td>77.0</td>\n",
       "      <td>80.0</td>\n",
       "      <td>539.0</td>\n",
       "    </tr>\n",
       "    <tr>\n",
       "      <th>4</th>\n",
       "      <td>RAMADHAN MUSA, TEPO</td>\n",
       "      <td>13363.0</td>\n",
       "      <td>0.0</td>\n",
       "      <td>40.0</td>\n",
       "      <td>84.0</td>\n",
       "      <td>74.0</td>\n",
       "      <td>82.0</td>\n",
       "      <td>89.0</td>\n",
       "      <td>64.0</td>\n",
       "      <td>46.0</td>\n",
       "      <td>479.0</td>\n",
       "    </tr>\n",
       "  </tbody>\n",
       "</table>\n",
       "</div>"
      ],
      "text/plain": [
       "                   names  admission number  balance  english  kiswahili  \\\n",
       "0    JERIEL NDEDA, OBURA           13259.0      0.0     81.0       39.0   \n",
       "1  MUKUHA TIMOTHY, KAMAU           13243.0      0.0     85.0       74.0   \n",
       "2             JOB, NGARA           13307.0      0.0     54.0       49.0   \n",
       "3     CHEGE DAVID, KAMAU           13258.0      0.0     71.0       97.0   \n",
       "4    RAMADHAN MUSA, TEPO           13363.0      0.0     40.0       84.0   \n",
       "\n",
       "   mathematics  science  sst/cre  Creative Arts  music  Total  \n",
       "0         50.0     30.0     59.0           99.0   80.0  438.0  \n",
       "1         68.0     49.0     78.0           38.0   86.0  478.0  \n",
       "2         53.0     59.0     72.0           86.0   62.0  435.0  \n",
       "3         92.0     41.0     81.0           77.0   80.0  539.0  \n",
       "4         74.0     82.0     89.0           64.0   46.0  479.0  "
      ]
     },
     "execution_count": 66,
     "metadata": {},
     "output_type": "execute_result"
    }
   ],
   "source": [
    "df.head()"
   ]
  },
  {
   "cell_type": "code",
   "execution_count": null,
   "metadata": {
    "id": "DRq1B62_fYgj"
   },
   "outputs": [],
   "source": []
  }
 ],
 "metadata": {
  "colab": {
   "provenance": []
  },
  "kernelspec": {
   "display_name": "Python 3 (ipykernel)",
   "language": "python",
   "name": "python3"
  },
  "language_info": {
   "codemirror_mode": {
    "name": "ipython",
    "version": 3
   },
   "file_extension": ".py",
   "mimetype": "text/x-python",
   "name": "python",
   "nbconvert_exporter": "python",
   "pygments_lexer": "ipython3",
   "version": "3.9.13"
  }
 },
 "nbformat": 4,
 "nbformat_minor": 1
}
